{
 "cells": [
  {
   "cell_type": "code",
   "execution_count": 3,
   "id": "6f37db8e-4f5d-4613-b86a-9f3d16e683ac",
   "metadata": {},
   "outputs": [],
   "source": [
    "import pandas as pd\n",
    "import numpy as np\n",
    "\n",
    "import seaborn as sns\n",
    "import matplotlib.pyplot as plt\n",
    "\n",
    "from sklearn.model_selection import train_test_split\n",
    "from sklearn.preprocessing import StandardScaler\n",
    "from sklearn.linear_model import LogisticRegression\n",
    "import sklearn.metrics as metrics\n",
    "from sklearn.compose import make_column_transformer\n",
    "from sklearn.preprocessing import OrdinalEncoder\n",
    "import imblearn.over_sampling\n",
    "from sklearn.ensemble import RandomForestClassifier\n",
    "from sklearn.naive_bayes import BernoulliNB, MultinomialNB, GaussianNB\n",
    "from sklearn.metrics import precision_score, recall_score, precision_recall_curve,f1_score, fbeta_score\n",
    "from xgboost import XGBClassifier\n",
    "from sklearn.model_selection import GridSearchCV\n",
    "from sklearn.metrics import roc_auc_score, roc_curve\n",
    "import imblearn.over_sampling"
   ]
  },
  {
   "cell_type": "markdown",
   "id": "0bd38d3c-efe3-43c9-b1b9-e72fff3dcc08",
   "metadata": {},
   "source": [
    "# Data Preparation & EDA"
   ]
  },
  {
   "cell_type": "markdown",
   "id": "2604bbef-af95-4dd4-bed3-e3308fbbde2d",
   "metadata": {},
   "source": [
    "## Loading data and exploring the target and features"
   ]
  },
  {
   "cell_type": "code",
   "execution_count": 4,
   "id": "1440ed17-5493-4ee1-b62f-cf7bd339ce6f",
   "metadata": {},
   "outputs": [],
   "source": [
    "df = pd.read_csv('data.csv')\n",
    "label = pd.read_csv('label.csv')"
   ]
  },
  {
   "cell_type": "code",
   "execution_count": 5,
   "id": "b8873aa4-978d-411b-96ba-a88a9649aef1",
   "metadata": {},
   "outputs": [
    {
     "data": {
      "text/html": [
       "<div>\n",
       "<style scoped>\n",
       "    .dataframe tbody tr th:only-of-type {\n",
       "        vertical-align: middle;\n",
       "    }\n",
       "\n",
       "    .dataframe tbody tr th {\n",
       "        vertical-align: top;\n",
       "    }\n",
       "\n",
       "    .dataframe thead th {\n",
       "        text-align: right;\n",
       "    }\n",
       "</style>\n",
       "<table border=\"1\" class=\"dataframe\">\n",
       "  <thead>\n",
       "    <tr style=\"text-align: right;\">\n",
       "      <th></th>\n",
       "      <th>respondent_id</th>\n",
       "      <th>h1n1_concern</th>\n",
       "      <th>h1n1_knowledge</th>\n",
       "      <th>behavioral_antiviral_meds</th>\n",
       "      <th>behavioral_avoidance</th>\n",
       "      <th>behavioral_face_mask</th>\n",
       "      <th>behavioral_wash_hands</th>\n",
       "      <th>behavioral_large_gatherings</th>\n",
       "      <th>behavioral_outside_home</th>\n",
       "      <th>behavioral_touch_face</th>\n",
       "      <th>...</th>\n",
       "      <th>income_poverty</th>\n",
       "      <th>marital_status</th>\n",
       "      <th>rent_or_own</th>\n",
       "      <th>employment_status</th>\n",
       "      <th>hhs_geo_region</th>\n",
       "      <th>census_msa</th>\n",
       "      <th>household_adults</th>\n",
       "      <th>household_children</th>\n",
       "      <th>employment_industry</th>\n",
       "      <th>employment_occupation</th>\n",
       "    </tr>\n",
       "  </thead>\n",
       "  <tbody>\n",
       "    <tr>\n",
       "      <th>0</th>\n",
       "      <td>0</td>\n",
       "      <td>1.0</td>\n",
       "      <td>0.0</td>\n",
       "      <td>0.0</td>\n",
       "      <td>0.0</td>\n",
       "      <td>0.0</td>\n",
       "      <td>0.0</td>\n",
       "      <td>0.0</td>\n",
       "      <td>1.0</td>\n",
       "      <td>1.0</td>\n",
       "      <td>...</td>\n",
       "      <td>Below Poverty</td>\n",
       "      <td>Not Married</td>\n",
       "      <td>Own</td>\n",
       "      <td>Not in Labor Force</td>\n",
       "      <td>oxchjgsf</td>\n",
       "      <td>Non-MSA</td>\n",
       "      <td>0.0</td>\n",
       "      <td>0.0</td>\n",
       "      <td>NaN</td>\n",
       "      <td>NaN</td>\n",
       "    </tr>\n",
       "    <tr>\n",
       "      <th>1</th>\n",
       "      <td>1</td>\n",
       "      <td>3.0</td>\n",
       "      <td>2.0</td>\n",
       "      <td>0.0</td>\n",
       "      <td>1.0</td>\n",
       "      <td>0.0</td>\n",
       "      <td>1.0</td>\n",
       "      <td>0.0</td>\n",
       "      <td>1.0</td>\n",
       "      <td>1.0</td>\n",
       "      <td>...</td>\n",
       "      <td>Below Poverty</td>\n",
       "      <td>Not Married</td>\n",
       "      <td>Rent</td>\n",
       "      <td>Employed</td>\n",
       "      <td>bhuqouqj</td>\n",
       "      <td>MSA, Not Principle  City</td>\n",
       "      <td>0.0</td>\n",
       "      <td>0.0</td>\n",
       "      <td>pxcmvdjn</td>\n",
       "      <td>xgwztkwe</td>\n",
       "    </tr>\n",
       "    <tr>\n",
       "      <th>2</th>\n",
       "      <td>2</td>\n",
       "      <td>1.0</td>\n",
       "      <td>1.0</td>\n",
       "      <td>0.0</td>\n",
       "      <td>1.0</td>\n",
       "      <td>0.0</td>\n",
       "      <td>0.0</td>\n",
       "      <td>0.0</td>\n",
       "      <td>0.0</td>\n",
       "      <td>0.0</td>\n",
       "      <td>...</td>\n",
       "      <td>&lt;= $75,000, Above Poverty</td>\n",
       "      <td>Not Married</td>\n",
       "      <td>Own</td>\n",
       "      <td>Employed</td>\n",
       "      <td>qufhixun</td>\n",
       "      <td>MSA, Not Principle  City</td>\n",
       "      <td>2.0</td>\n",
       "      <td>0.0</td>\n",
       "      <td>rucpziij</td>\n",
       "      <td>xtkaffoo</td>\n",
       "    </tr>\n",
       "  </tbody>\n",
       "</table>\n",
       "<p>3 rows × 36 columns</p>\n",
       "</div>"
      ],
      "text/plain": [
       "   respondent_id  h1n1_concern  h1n1_knowledge  behavioral_antiviral_meds  \\\n",
       "0              0           1.0             0.0                        0.0   \n",
       "1              1           3.0             2.0                        0.0   \n",
       "2              2           1.0             1.0                        0.0   \n",
       "\n",
       "   behavioral_avoidance  behavioral_face_mask  behavioral_wash_hands  \\\n",
       "0                   0.0                   0.0                    0.0   \n",
       "1                   1.0                   0.0                    1.0   \n",
       "2                   1.0                   0.0                    0.0   \n",
       "\n",
       "   behavioral_large_gatherings  behavioral_outside_home  \\\n",
       "0                          0.0                      1.0   \n",
       "1                          0.0                      1.0   \n",
       "2                          0.0                      0.0   \n",
       "\n",
       "   behavioral_touch_face  ...             income_poverty  marital_status  \\\n",
       "0                    1.0  ...              Below Poverty     Not Married   \n",
       "1                    1.0  ...              Below Poverty     Not Married   \n",
       "2                    0.0  ...  <= $75,000, Above Poverty     Not Married   \n",
       "\n",
       "   rent_or_own   employment_status  hhs_geo_region                census_msa  \\\n",
       "0          Own  Not in Labor Force        oxchjgsf                   Non-MSA   \n",
       "1         Rent            Employed        bhuqouqj  MSA, Not Principle  City   \n",
       "2          Own            Employed        qufhixun  MSA, Not Principle  City   \n",
       "\n",
       "   household_adults  household_children  employment_industry  \\\n",
       "0               0.0                 0.0                  NaN   \n",
       "1               0.0                 0.0             pxcmvdjn   \n",
       "2               2.0                 0.0             rucpziij   \n",
       "\n",
       "   employment_occupation  \n",
       "0                    NaN  \n",
       "1               xgwztkwe  \n",
       "2               xtkaffoo  \n",
       "\n",
       "[3 rows x 36 columns]"
      ]
     },
     "execution_count": 5,
     "metadata": {},
     "output_type": "execute_result"
    }
   ],
   "source": [
    "df.head(3)"
   ]
  },
  {
   "cell_type": "code",
   "execution_count": 6,
   "id": "f5a3e3a9-f2d7-4657-90d2-e0fc8c62343e",
   "metadata": {},
   "outputs": [
    {
     "data": {
      "text/html": [
       "<div>\n",
       "<style scoped>\n",
       "    .dataframe tbody tr th:only-of-type {\n",
       "        vertical-align: middle;\n",
       "    }\n",
       "\n",
       "    .dataframe tbody tr th {\n",
       "        vertical-align: top;\n",
       "    }\n",
       "\n",
       "    .dataframe thead th {\n",
       "        text-align: right;\n",
       "    }\n",
       "</style>\n",
       "<table border=\"1\" class=\"dataframe\">\n",
       "  <thead>\n",
       "    <tr style=\"text-align: right;\">\n",
       "      <th></th>\n",
       "      <th>respondent_id</th>\n",
       "      <th>h1n1_vaccine</th>\n",
       "      <th>seasonal_vaccine</th>\n",
       "    </tr>\n",
       "  </thead>\n",
       "  <tbody>\n",
       "    <tr>\n",
       "      <th>0</th>\n",
       "      <td>0</td>\n",
       "      <td>0</td>\n",
       "      <td>0</td>\n",
       "    </tr>\n",
       "    <tr>\n",
       "      <th>1</th>\n",
       "      <td>1</td>\n",
       "      <td>0</td>\n",
       "      <td>1</td>\n",
       "    </tr>\n",
       "    <tr>\n",
       "      <th>2</th>\n",
       "      <td>2</td>\n",
       "      <td>0</td>\n",
       "      <td>0</td>\n",
       "    </tr>\n",
       "  </tbody>\n",
       "</table>\n",
       "</div>"
      ],
      "text/plain": [
       "   respondent_id  h1n1_vaccine  seasonal_vaccine\n",
       "0              0             0                 0\n",
       "1              1             0                 1\n",
       "2              2             0                 0"
      ]
     },
     "execution_count": 6,
     "metadata": {},
     "output_type": "execute_result"
    }
   ],
   "source": [
    "label.head(3)"
   ]
  },
  {
   "cell_type": "code",
   "execution_count": 7,
   "id": "76a37c5e-7ece-4da8-9df3-b72a7da5b42e",
   "metadata": {},
   "outputs": [],
   "source": [
    "df = pd.merge(df, label, left_on = 'respondent_id', right_on = 'respondent_id')"
   ]
  },
  {
   "cell_type": "code",
   "execution_count": 8,
   "id": "6ba5695d-6fe2-4ceb-a96f-fdbd9ff3133a",
   "metadata": {},
   "outputs": [
    {
     "data": {
      "text/html": [
       "<div>\n",
       "<style scoped>\n",
       "    .dataframe tbody tr th:only-of-type {\n",
       "        vertical-align: middle;\n",
       "    }\n",
       "\n",
       "    .dataframe tbody tr th {\n",
       "        vertical-align: top;\n",
       "    }\n",
       "\n",
       "    .dataframe thead th {\n",
       "        text-align: right;\n",
       "    }\n",
       "</style>\n",
       "<table border=\"1\" class=\"dataframe\">\n",
       "  <thead>\n",
       "    <tr style=\"text-align: right;\">\n",
       "      <th></th>\n",
       "      <th>respondent_id</th>\n",
       "      <th>h1n1_concern</th>\n",
       "      <th>h1n1_knowledge</th>\n",
       "      <th>behavioral_antiviral_meds</th>\n",
       "      <th>behavioral_avoidance</th>\n",
       "      <th>behavioral_face_mask</th>\n",
       "      <th>behavioral_wash_hands</th>\n",
       "      <th>behavioral_large_gatherings</th>\n",
       "      <th>behavioral_outside_home</th>\n",
       "      <th>behavioral_touch_face</th>\n",
       "      <th>...</th>\n",
       "      <th>rent_or_own</th>\n",
       "      <th>employment_status</th>\n",
       "      <th>hhs_geo_region</th>\n",
       "      <th>census_msa</th>\n",
       "      <th>household_adults</th>\n",
       "      <th>household_children</th>\n",
       "      <th>employment_industry</th>\n",
       "      <th>employment_occupation</th>\n",
       "      <th>h1n1_vaccine</th>\n",
       "      <th>seasonal_vaccine</th>\n",
       "    </tr>\n",
       "  </thead>\n",
       "  <tbody>\n",
       "    <tr>\n",
       "      <th>0</th>\n",
       "      <td>0</td>\n",
       "      <td>1.0</td>\n",
       "      <td>0.0</td>\n",
       "      <td>0.0</td>\n",
       "      <td>0.0</td>\n",
       "      <td>0.0</td>\n",
       "      <td>0.0</td>\n",
       "      <td>0.0</td>\n",
       "      <td>1.0</td>\n",
       "      <td>1.0</td>\n",
       "      <td>...</td>\n",
       "      <td>Own</td>\n",
       "      <td>Not in Labor Force</td>\n",
       "      <td>oxchjgsf</td>\n",
       "      <td>Non-MSA</td>\n",
       "      <td>0.0</td>\n",
       "      <td>0.0</td>\n",
       "      <td>NaN</td>\n",
       "      <td>NaN</td>\n",
       "      <td>0</td>\n",
       "      <td>0</td>\n",
       "    </tr>\n",
       "    <tr>\n",
       "      <th>1</th>\n",
       "      <td>1</td>\n",
       "      <td>3.0</td>\n",
       "      <td>2.0</td>\n",
       "      <td>0.0</td>\n",
       "      <td>1.0</td>\n",
       "      <td>0.0</td>\n",
       "      <td>1.0</td>\n",
       "      <td>0.0</td>\n",
       "      <td>1.0</td>\n",
       "      <td>1.0</td>\n",
       "      <td>...</td>\n",
       "      <td>Rent</td>\n",
       "      <td>Employed</td>\n",
       "      <td>bhuqouqj</td>\n",
       "      <td>MSA, Not Principle  City</td>\n",
       "      <td>0.0</td>\n",
       "      <td>0.0</td>\n",
       "      <td>pxcmvdjn</td>\n",
       "      <td>xgwztkwe</td>\n",
       "      <td>0</td>\n",
       "      <td>1</td>\n",
       "    </tr>\n",
       "    <tr>\n",
       "      <th>2</th>\n",
       "      <td>2</td>\n",
       "      <td>1.0</td>\n",
       "      <td>1.0</td>\n",
       "      <td>0.0</td>\n",
       "      <td>1.0</td>\n",
       "      <td>0.0</td>\n",
       "      <td>0.0</td>\n",
       "      <td>0.0</td>\n",
       "      <td>0.0</td>\n",
       "      <td>0.0</td>\n",
       "      <td>...</td>\n",
       "      <td>Own</td>\n",
       "      <td>Employed</td>\n",
       "      <td>qufhixun</td>\n",
       "      <td>MSA, Not Principle  City</td>\n",
       "      <td>2.0</td>\n",
       "      <td>0.0</td>\n",
       "      <td>rucpziij</td>\n",
       "      <td>xtkaffoo</td>\n",
       "      <td>0</td>\n",
       "      <td>0</td>\n",
       "    </tr>\n",
       "  </tbody>\n",
       "</table>\n",
       "<p>3 rows × 38 columns</p>\n",
       "</div>"
      ],
      "text/plain": [
       "   respondent_id  h1n1_concern  h1n1_knowledge  behavioral_antiviral_meds  \\\n",
       "0              0           1.0             0.0                        0.0   \n",
       "1              1           3.0             2.0                        0.0   \n",
       "2              2           1.0             1.0                        0.0   \n",
       "\n",
       "   behavioral_avoidance  behavioral_face_mask  behavioral_wash_hands  \\\n",
       "0                   0.0                   0.0                    0.0   \n",
       "1                   1.0                   0.0                    1.0   \n",
       "2                   1.0                   0.0                    0.0   \n",
       "\n",
       "   behavioral_large_gatherings  behavioral_outside_home  \\\n",
       "0                          0.0                      1.0   \n",
       "1                          0.0                      1.0   \n",
       "2                          0.0                      0.0   \n",
       "\n",
       "   behavioral_touch_face  ...  rent_or_own   employment_status  \\\n",
       "0                    1.0  ...          Own  Not in Labor Force   \n",
       "1                    1.0  ...         Rent            Employed   \n",
       "2                    0.0  ...          Own            Employed   \n",
       "\n",
       "   hhs_geo_region                census_msa  household_adults  \\\n",
       "0        oxchjgsf                   Non-MSA               0.0   \n",
       "1        bhuqouqj  MSA, Not Principle  City               0.0   \n",
       "2        qufhixun  MSA, Not Principle  City               2.0   \n",
       "\n",
       "   household_children  employment_industry  employment_occupation  \\\n",
       "0                 0.0                  NaN                    NaN   \n",
       "1                 0.0             pxcmvdjn               xgwztkwe   \n",
       "2                 0.0             rucpziij               xtkaffoo   \n",
       "\n",
       "   h1n1_vaccine  seasonal_vaccine  \n",
       "0             0                 0  \n",
       "1             0                 1  \n",
       "2             0                 0  \n",
       "\n",
       "[3 rows x 38 columns]"
      ]
     },
     "execution_count": 8,
     "metadata": {},
     "output_type": "execute_result"
    }
   ],
   "source": [
    "df.head(3)"
   ]
  },
  {
   "cell_type": "code",
   "execution_count": 9,
   "id": "d7ea0362-3aca-41c5-b0fd-815cf5c828fb",
   "metadata": {},
   "outputs": [
    {
     "data": {
      "text/plain": [
       "(26707, 38)"
      ]
     },
     "execution_count": 9,
     "metadata": {},
     "output_type": "execute_result"
    }
   ],
   "source": [
    "df.shape"
   ]
  },
  {
   "cell_type": "code",
   "execution_count": 10,
   "id": "1e725dc4-37b6-4075-aee7-a4e109d65560",
   "metadata": {},
   "outputs": [
    {
     "name": "stdout",
     "output_type": "stream",
     "text": [
      "<class 'pandas.core.frame.DataFrame'>\n",
      "Int64Index: 26707 entries, 0 to 26706\n",
      "Data columns (total 38 columns):\n",
      " #   Column                       Non-Null Count  Dtype  \n",
      "---  ------                       --------------  -----  \n",
      " 0   respondent_id                26707 non-null  int64  \n",
      " 1   h1n1_concern                 26615 non-null  float64\n",
      " 2   h1n1_knowledge               26591 non-null  float64\n",
      " 3   behavioral_antiviral_meds    26636 non-null  float64\n",
      " 4   behavioral_avoidance         26499 non-null  float64\n",
      " 5   behavioral_face_mask         26688 non-null  float64\n",
      " 6   behavioral_wash_hands        26665 non-null  float64\n",
      " 7   behavioral_large_gatherings  26620 non-null  float64\n",
      " 8   behavioral_outside_home      26625 non-null  float64\n",
      " 9   behavioral_touch_face        26579 non-null  float64\n",
      " 10  doctor_recc_h1n1             24547 non-null  float64\n",
      " 11  doctor_recc_seasonal         24547 non-null  float64\n",
      " 12  chronic_med_condition        25736 non-null  float64\n",
      " 13  child_under_6_months         25887 non-null  float64\n",
      " 14  health_worker                25903 non-null  float64\n",
      " 15  health_insurance             14433 non-null  float64\n",
      " 16  opinion_h1n1_vacc_effective  26316 non-null  float64\n",
      " 17  opinion_h1n1_risk            26319 non-null  float64\n",
      " 18  opinion_h1n1_sick_from_vacc  26312 non-null  float64\n",
      " 19  opinion_seas_vacc_effective  26245 non-null  float64\n",
      " 20  opinion_seas_risk            26193 non-null  float64\n",
      " 21  opinion_seas_sick_from_vacc  26170 non-null  float64\n",
      " 22  age_group                    26707 non-null  object \n",
      " 23  education                    25300 non-null  object \n",
      " 24  race                         26707 non-null  object \n",
      " 25  sex                          26707 non-null  object \n",
      " 26  income_poverty               22284 non-null  object \n",
      " 27  marital_status               25299 non-null  object \n",
      " 28  rent_or_own                  24665 non-null  object \n",
      " 29  employment_status            25244 non-null  object \n",
      " 30  hhs_geo_region               26707 non-null  object \n",
      " 31  census_msa                   26707 non-null  object \n",
      " 32  household_adults             26458 non-null  float64\n",
      " 33  household_children           26458 non-null  float64\n",
      " 34  employment_industry          13377 non-null  object \n",
      " 35  employment_occupation        13237 non-null  object \n",
      " 36  h1n1_vaccine                 26707 non-null  int64  \n",
      " 37  seasonal_vaccine             26707 non-null  int64  \n",
      "dtypes: float64(23), int64(3), object(12)\n",
      "memory usage: 7.9+ MB\n"
     ]
    }
   ],
   "source": [
    "df.info()"
   ]
  },
  {
   "cell_type": "code",
   "execution_count": 11,
   "id": "d6b1be9d-d4a0-49e9-911c-28f6d8f9cc0a",
   "metadata": {},
   "outputs": [
    {
     "name": "stdout",
     "output_type": "stream",
     "text": [
      "h1n1: \n",
      " 0    21033\n",
      "1     5674\n",
      "Name: h1n1_vaccine, dtype: int64\n",
      "seasonal: \n",
      " 0    14272\n",
      "1    12435\n",
      "Name: seasonal_vaccine, dtype: int64\n"
     ]
    }
   ],
   "source": [
    "print('h1n1:','\\n',df.h1n1_vaccine.value_counts())\n",
    "print('seasonal:','\\n',df.seasonal_vaccine.value_counts())"
   ]
  },
  {
   "cell_type": "code",
   "execution_count": 12,
   "id": "4b163828-1e72-4873-92b2-71f5e8e71779",
   "metadata": {},
   "outputs": [
    {
     "data": {
      "text/plain": [
       "<matplotlib.axes._subplots.AxesSubplot at 0x7fec3c0b1880>"
      ]
     },
     "execution_count": 12,
     "metadata": {},
     "output_type": "execute_result"
    },
    {
     "data": {
      "image/png": "[encoded data removed]",
      "text/plain": [
       "<Figure size 432x288 with 1 Axes>"
      ]
     },
     "metadata": {
      "needs_background": "light"
     },
     "output_type": "display_data"
    }
   ],
   "source": [
    "sns.barplot(data = df, x = df.h1n1_vaccine.unique(), y = df.h1n1_vaccine.value_counts())"
   ]
  },
  {
   "cell_type": "code",
   "execution_count": 13,
   "id": "67046d9a-8d79-414e-8c6f-53e57614114e",
   "metadata": {},
   "outputs": [
    {
     "data": {
      "text/plain": [
       "<matplotlib.axes._subplots.AxesSubplot at 0x7fec3bed8310>"
      ]
     },
     "execution_count": 13,
     "metadata": {},
     "output_type": "execute_result"
    },
    {
     "data": {
      "image/png": "[encoded data removed]",
      "text/plain": [
       "<Figure size 432x288 with 1 Axes>"
      ]
     },
     "metadata": {
      "needs_background": "light"
     },
     "output_type": "display_data"
    }
   ],
   "source": [
    "sns.barplot(data = df, x = df.seasonal_vaccine.unique(), y = df.seasonal_vaccine.value_counts())"
   ]
  },
  {
   "cell_type": "code",
   "execution_count": 14,
   "id": "1281b3ee-76b5-4f60-ac5b-1040b1404760",
   "metadata": {},
   "outputs": [
    {
     "data": {
      "text/plain": [
       "Index(['respondent_id', 'h1n1_concern', 'h1n1_knowledge',\n",
       "       'behavioral_antiviral_meds', 'behavioral_avoidance',\n",
       "       'behavioral_face_mask', 'behavioral_wash_hands',\n",
       "       'behavioral_large_gatherings', 'behavioral_outside_home',\n",
       "       'behavioral_touch_face', 'doctor_recc_h1n1', 'doctor_recc_seasonal',\n",
       "       'chronic_med_condition', 'child_under_6_months', 'health_worker',\n",
       "       'health_insurance', 'opinion_h1n1_vacc_effective', 'opinion_h1n1_risk',\n",
       "       'opinion_h1n1_sick_from_vacc', 'opinion_seas_vacc_effective',\n",
       "       'opinion_seas_risk', 'opinion_seas_sick_from_vacc', 'age_group',\n",
       "       'education', 'race', 'sex', 'income_poverty', 'marital_status',\n",
       "       'rent_or_own', 'employment_status', 'hhs_geo_region', 'census_msa',\n",
       "       'household_adults', 'household_children', 'employment_industry',\n",
       "       'employment_occupation', 'h1n1_vaccine', 'seasonal_vaccine'],\n",
       "      dtype='object')"
      ]
     },
     "execution_count": 14,
     "metadata": {},
     "output_type": "execute_result"
    }
   ],
   "source": [
    "df.columns"
   ]
  },
  {
   "cell_type": "code",
   "execution_count": 15,
   "id": "4161c6e0-4490-438f-93e6-fb1776fb9289",
   "metadata": {},
   "outputs": [
    {
     "name": "stdout",
     "output_type": "stream",
     "text": [
      "h1n1_concern [ 1.  3.  2.  0. nan]\n",
      "h1n1_knowledge [ 0.  2.  1. nan]\n",
      "behavioral_antiviral_meds [ 0.  1. nan]\n",
      "behavioral_avoidance [ 0.  1. nan]\n",
      "behavioral_face_mask [ 0.  1. nan]\n",
      "behavioral_wash_hands [ 0.  1. nan]\n",
      "behavioral_large_gatherings [ 0.  1. nan]\n",
      "behavioral_outside_home [ 1.  0. nan]\n",
      "behavioral_touch_face [ 1.  0. nan]\n",
      "doctor_recc_h1n1 [ 0. nan  1.]\n",
      "doctor_recc_seasonal [ 0. nan  1.]\n",
      "chronic_med_condition [ 0.  1. nan]\n",
      "child_under_6_months [ 0.  1. nan]\n",
      "health_worker [ 0.  1. nan]\n",
      "health_insurance [ 1. nan  0.]\n",
      "opinion_h1n1_vacc_effective [ 3.  5.  4.  2.  1. nan]\n",
      "opinion_h1n1_risk [ 1.  4.  3.  2.  5. nan]\n",
      "opinion_h1n1_sick_from_vacc [ 2.  4.  1.  5.  3. nan]\n",
      "opinion_seas_vacc_effective [ 2.  4.  5.  3.  1. nan]\n",
      "opinion_seas_risk [ 1.  2.  4.  3.  5. nan]\n",
      "opinion_seas_sick_from_vacc [ 2.  4.  1.  5. nan  3.]\n",
      "age_group ['55 - 64 Years' '35 - 44 Years' '18 - 34 Years' '65+ Years'\n",
      " '45 - 54 Years']\n",
      "education ['< 12 Years' '12 Years' 'College Graduate' 'Some College' nan]\n",
      "race ['White' 'Black' 'Other or Multiple' 'Hispanic']\n",
      "sex ['Female' 'Male']\n",
      "income_poverty ['Below Poverty' '<= $75,000, Above Poverty' '> $75,000' nan]\n",
      "marital_status ['Not Married' 'Married' nan]\n",
      "rent_or_own ['Own' 'Rent' nan]\n",
      "employment_status ['Not in Labor Force' 'Employed' 'Unemployed' nan]\n",
      "hhs_geo_region ['oxchjgsf' 'bhuqouqj' 'qufhixun' 'lrircsnp' 'atmpeygn' 'lzgpxyit'\n",
      " 'fpwskwrf' 'mlyzmhmf' 'dqpwygqj' 'kbazzjca']\n",
      "census_msa ['Non-MSA' 'MSA, Not Principle  City' 'MSA, Principle City']\n",
      "household_adults [ 0.  2.  1.  3. nan]\n",
      "household_children [ 0.  3.  2.  1. nan]\n",
      "employment_industry [nan 'pxcmvdjn' 'rucpziij' 'wxleyezf' 'saaquncn' 'xicduogh' 'ldnlellj'\n",
      " 'wlfvacwt' 'nduyfdeo' 'fcxhlnwr' 'vjjrobsf' 'arjwrbjb' 'atmlpfrs'\n",
      " 'msuufmds' 'xqicxuve' 'phxvnwax' 'dotnnunm' 'mfikgejo' 'cfqqtusy'\n",
      " 'mcubkhph' 'haxffmxo' 'qnlwzans']\n",
      "employment_occupation [nan 'xgwztkwe' 'xtkaffoo' 'emcorrxb' 'vlluhbov' 'xqwwgdyp' 'ccgxvspp'\n",
      " 'qxajmpny' 'kldqjyjy' 'mxkfnird' 'hfxkjkmi' 'bxpfxfdn' 'ukymxvdu'\n",
      " 'cmhcxjea' 'haliazsg' 'dlvbwzss' 'xzmlyyjv' 'oijqvulv' 'rcertsgn'\n",
      " 'tfqavkke' 'hodpvpew' 'uqqtjvyb' 'pvmttkik' 'dcjcmpih']\n"
     ]
    }
   ],
   "source": [
    "for col in df.columns[1:-2]:\n",
    "    print(col ,df[col].unique())"
   ]
  },
  {
   "cell_type": "code",
   "execution_count": 16,
   "id": "7c066fcd-fefe-4c17-b4ff-33975823cf8d",
   "metadata": {
    "tags": []
   },
   "outputs": [
    {
     "name": "stdout",
     "output_type": "stream",
     "text": [
      "h1n1_concern\n",
      "h1n1_knowledge\n",
      "behavioral_antiviral_meds\n",
      "behavioral_avoidance\n",
      "behavioral_face_mask\n",
      "behavioral_wash_hands\n",
      "behavioral_large_gatherings\n",
      "behavioral_outside_home\n",
      "behavioral_touch_face\n",
      "doctor_recc_h1n1\n",
      "doctor_recc_seasonal\n",
      "chronic_med_condition\n",
      "child_under_6_months\n",
      "health_worker\n",
      "health_insurance\n",
      "opinion_h1n1_vacc_effective\n",
      "opinion_h1n1_risk\n",
      "opinion_h1n1_sick_from_vacc\n",
      "opinion_seas_vacc_effective\n",
      "opinion_seas_risk\n",
      "opinion_seas_sick_from_vacc\n",
      "age_group\n",
      "education\n",
      "race\n",
      "sex\n",
      "income_poverty\n",
      "marital_status\n",
      "rent_or_own\n",
      "employment_status\n",
      "hhs_geo_region\n",
      "census_msa\n",
      "household_adults\n",
      "household_children\n",
      "employment_industry\n",
      "employment_occupation\n"
     ]
    }
   ],
   "source": [
    "for col in df.columns[1:-2]:\n",
    "    print(col)"
   ]
  },
  {
   "cell_type": "code",
   "execution_count": 17,
   "id": "d0d3ab84-3b5e-40f9-952f-26e2003eb21a",
   "metadata": {},
   "outputs": [],
   "source": [
    "for col in df.columns:\n",
    "    df[col].fillna(df[col].mode()[0], inplace = True)"
   ]
  },
  {
   "cell_type": "markdown",
   "id": "43118488-2df3-43bd-a9e1-0b2ffaaaa683",
   "metadata": {},
   "source": [
    "# Baseline with a logistic regression"
   ]
  },
  {
   "cell_type": "markdown",
   "id": "a162309b-29e2-44a1-9f43-b77ac41e594b",
   "metadata": {},
   "source": [
    "## Feature Engeenering"
   ]
  },
  {
   "cell_type": "markdown",
   "id": "cc1556b0-9204-401f-8100-b840655cfd77",
   "metadata": {},
   "source": [
    "### Treating categorical variable properly"
   ]
  },
  {
   "cell_type": "code",
   "execution_count": 105,
   "id": "40247739-6d7f-49d7-bd2c-2b71d7ed7195",
   "metadata": {},
   "outputs": [],
   "source": [
    "df_2 = df.copy()"
   ]
  },
  {
   "cell_type": "code",
   "execution_count": 106,
   "id": "45a21dd3-5bad-48b0-8308-cb3f73e9dd98",
   "metadata": {},
   "outputs": [
    {
     "data": {
      "text/plain": [
       "array(['Unemployed', 'Employed'], dtype=object)"
      ]
     },
     "execution_count": 106,
     "metadata": {},
     "output_type": "execute_result"
    }
   ],
   "source": [
    "# In the particular feature, 'employment_status', there are two relevant categories so combining those as 'unemployed'.\n",
    "\n",
    "df_2['employment_status'] = ['Unemployed' if status == 'Not in Labor Force' else status for status in df.employment_status]\n",
    "df_2.employment_status.unique()"
   ]
  },
  {
   "cell_type": "code",
   "execution_count": 107,
   "id": "c4d31de1-491c-467f-851f-35bc5bbb7007",
   "metadata": {},
   "outputs": [
    {
     "data": {
      "text/plain": [
       "array([[0., 3., 0.],\n",
       "       [1., 1., 0.],\n",
       "       [2., 0., 1.],\n",
       "       ...,\n",
       "       [3., 3., 1.],\n",
       "       [3., 0., 1.],\n",
       "       [3., 4., 1.]])"
      ]
     },
     "execution_count": 107,
     "metadata": {},
     "output_type": "execute_result"
    }
   ],
   "source": [
    "# Treating ordinal variables to make sure that they are encoded in the correct orders.\n",
    "\n",
    "education_lvl = [['< 12 Years','12 Years','College Graduate','Some College']]\n",
    "age_lvl = [['18 - 34 Years','35 - 44 Years','45 - 54 Years','55 - 64 Years','65+ Years']]\n",
    "income_lvl = [['Below Poverty','<= $75,000, Above Poverty','> $75,000']]\n",
    "\n",
    "transformer = make_column_transformer(\n",
    "    (OrdinalEncoder(categories=education_lvl), ['education']),\n",
    "    (OrdinalEncoder(categories=age_lvl), ['age_group']),\n",
    "    (OrdinalEncoder(categories=income_lvl), ['income_poverty'])\n",
    ")\n",
    "\n",
    "transformer.fit_transform(df_2)"
   ]
  },
  {
   "cell_type": "code",
   "execution_count": 108,
   "id": "59d96a42-e32b-4999-96fe-868d95c4d48a",
   "metadata": {},
   "outputs": [],
   "source": [
    "ordinal = OrdinalEncoder()\n",
    "\n",
    "ordinal.fit(df_2[['h1n1_concern','h1n1_knowledge','opinion_h1n1_vacc_effective','opinion_h1n1_risk',\n",
    "                'opinion_h1n1_sick_from_vacc','opinion_seas_vacc_effective','opinion_seas_risk',\n",
    "                'opinion_seas_sick_from_vacc','household_adults','household_children','education','age_group']])\n",
    "\n",
    "df_2[['h1n1_concern','h1n1_knowledge','opinion_h1n1_vacc_effective','opinion_h1n1_risk',\n",
    "    'opinion_h1n1_sick_from_vacc','opinion_seas_vacc_effective','opinion_seas_risk',\n",
    "    'opinion_seas_sick_from_vacc','household_adults','household_children','education','age_group']] = ordinal.transform(df_2[['h1n1_concern',\n",
    "                                                                                                    'h1n1_knowledge','opinion_h1n1_vacc_effective',\n",
    "                        'opinion_h1n1_risk','opinion_h1n1_sick_from_vacc','opinion_seas_vacc_effective',\n",
    "                        'opinion_seas_risk','opinion_seas_sick_from_vacc','household_adults','household_children','education','age_group']])"
   ]
  },
  {
   "cell_type": "code",
   "execution_count": 109,
   "id": "276928c2-28d4-4896-9858-4594fdab83a6",
   "metadata": {},
   "outputs": [],
   "source": [
    "#creating dummy variables for categorical variables\n",
    "df_2 = pd.get_dummies(df_2, columns =['race','sex','income_poverty',\n",
    "                                    'marital_status','rent_or_own','employment_status','census_msa','hhs_geo_region',\n",
    "                                     'employment_industry','employment_occupation'], drop_first = True)"
   ]
  },
  {
   "cell_type": "code",
   "execution_count": 97,
   "id": "8f3c4524-c7cb-401e-ab0c-0db18e7dca5f",
   "metadata": {},
   "outputs": [],
   "source": [
    "y = df_2.h1n1_vaccine\n",
    "X = df_2.drop(labels = ['h1n1_vaccine','respondent_id','seasonal_vaccine'], axis = 1)\n",
    "\n",
    "X_train, X_test, y_train, y_test = train_test_split(X, y, test_size = .2, random_state = 42, stratify = y)\n",
    "X_train, X_val, y_train, y_val = train_test_split(X_train, y_train, test_size = .25, random_state = 42)"
   ]
  },
  {
   "cell_type": "code",
   "execution_count": 99,
   "id": "e72c6fe3-ec8d-4cfa-9cca-9ca295bb4c31",
   "metadata": {},
   "outputs": [
    {
     "data": {
      "text/plain": [
       "0.8350496161767459"
      ]
     },
     "execution_count": 99,
     "metadata": {},
     "output_type": "execute_result"
    }
   ],
   "source": [
    "std_scale = StandardScaler()\n",
    "X_train_scaled = std_scale.fit_transform(X_train)\n",
    "\n",
    "logit = LogisticRegression(C=1000) # setting C very high essentially removes regularization\n",
    "logit.fit(X_train_scaled, y_train)\n",
    "\n",
    "y_predict = logit.predict(X_train_scaled) \n",
    "logit.score(X_train_scaled, y_train)"
   ]
  },
  {
   "cell_type": "code",
   "execution_count": 65,
   "id": "2f0dba94-1103-4215-81b9-a0641046608c",
   "metadata": {},
   "outputs": [
    {
     "data": {
      "text/plain": [
       "0.847809809060277"
      ]
     },
     "execution_count": 65,
     "metadata": {},
     "output_type": "execute_result"
    }
   ],
   "source": [
    "std_scale = StandardScaler()\n",
    "X_val_scaled = std_scale.fit_transform(X_val)\n",
    "\n",
    "logit = LogisticRegression(C=1000) # setting C very high essentially removes regularization\n",
    "logit.fit(X_val_scaled, y_val)\n",
    "logit.score(X_val_scaled, y_val)"
   ]
  },
  {
   "cell_type": "code",
   "execution_count": 66,
   "id": "14acff1a-32cb-4de3-a1e0-2155e39e547a",
   "metadata": {},
   "outputs": [
    {
     "name": "stdout",
     "output_type": "stream",
     "text": [
      "Accuracy: 0.847809809060277\n",
      "Precision: 0.6797101449275362\n",
      "Recall: 0.4420358152686145\n",
      "f1: 0.5356938892061679\n"
     ]
    }
   ],
   "source": [
    "y_pred = logit.predict(X_val_scaled) \n",
    "\n",
    "print(\"Accuracy:\",metrics.accuracy_score(y_val, y_pred))\n",
    "print(\"Precision:\",metrics.precision_score(y_val, y_pred))\n",
    "print(\"Recall:\",metrics.recall_score(y_val, y_pred))\n",
    "print(\"f1:\",metrics.f1_score(y_val, y_pred))"
   ]
  },
  {
   "cell_type": "code",
   "execution_count": 67,
   "id": "f1a40df3-4295-40c9-8ed9-ec609e0c7e02",
   "metadata": {},
   "outputs": [
    {
     "name": "stdout",
     "output_type": "stream",
     "text": [
      "ROC AUC score =  0.8537081962008665\n"
     ]
    },
    {
     "data": {
      "image/png": "[encoded data removed]",
      "text/plain": [
       "<Figure size 432x288 with 1 Axes>"
      ]
     },
     "metadata": {
      "needs_background": "light"
     },
     "output_type": "display_data"
    }
   ],
   "source": [
    "fpr, tpr, thresholds = roc_curve(y_val, logit.predict_proba(X_val_scaled)[:,1])\n",
    "\n",
    "plt.plot(fpr, tpr,lw=2)\n",
    "plt.plot([0,1],[0,1],c='violet',ls='--')\n",
    "plt.xlim([-0.05,1.05])\n",
    "plt.ylim([-0.05,1.05])\n",
    "\n",
    "\n",
    "plt.xlabel('False positive rate')\n",
    "plt.ylabel('True positive rate')\n",
    "plt.title('ROC curve');\n",
    "print(\"ROC AUC score = \", roc_auc_score(y_val, logit.predict_proba(X_val_scaled)[:,1]))"
   ]
  },
  {
   "cell_type": "markdown",
   "id": "324c336e-2f5e-4dcd-a95f-cbd857e1ab76",
   "metadata": {},
   "source": [
    "### Class Imbalance"
   ]
  },
  {
   "cell_type": "code",
   "execution_count": 27,
   "id": "896f3ea0-5de1-49a9-91ad-f50130888411",
   "metadata": {},
   "outputs": [
    {
     "name": "stdout",
     "output_type": "stream",
     "text": [
      "Logistic Regression on SMOTE Train Data; Test Recall: 0.697, Test AUC: 0.841\n"
     ]
    }
   ],
   "source": [
    "# setup for the ratio argument of RandomOverSampler initialization\n",
    "n_pos = np.sum(y_train == 1)\n",
    "n_neg = np.sum(y_train == 0)\n",
    "ratio = {1 : n_pos * 3, 0 : n_neg} \n",
    "\n",
    "smote = imblearn.over_sampling.SMOTE(sampling_strategy=ratio, random_state = 42)\n",
    "\n",
    "X_tr_smote, y_tr_smote = smote.fit_resample(X_train_scaled, y_train)\n",
    "\n",
    "lr_smote = LogisticRegression(solver='liblinear') \n",
    "lr_smote.fit(X_tr_smote, y_tr_smote)\n",
    "\n",
    "print('Logistic Regression on SMOTE Train Data; Test Recall: %.3f, Test AUC: %.3f' % \\\n",
    "      (recall_score(y_val, lr_smote.predict(X_val_scaled)), roc_auc_score(y_val, lr_smote.predict_proba(X_val_scaled)[:,1])))"
   ]
  },
  {
   "cell_type": "markdown",
   "id": "edde6536-f240-417d-a8be-4dc44fa5388f",
   "metadata": {},
   "source": [
    "### Grid Search with Logistic Regression"
   ]
  },
  {
   "cell_type": "code",
   "execution_count": 115,
   "id": "0cb0a4c3-0736-4042-8d7e-05832c38eddf",
   "metadata": {},
   "outputs": [],
   "source": [
    "y = df_2.h1n1_vaccine\n",
    "X = df_2.drop(labels = ['h1n1_vaccine','respondent_id','seasonal_vaccine'], axis = 1)"
   ]
  },
  {
   "cell_type": "code",
   "execution_count": 117,
   "id": "33a3adf4-7def-4e14-9ad6-18371fc7451f",
   "metadata": {},
   "outputs": [
    {
     "name": "stderr",
     "output_type": "stream",
     "text": [
      "/Users/hyewonjeong/opt/anaconda3/lib/python3.8/site-packages/sklearn/model_selection/_search.py:918: UserWarning: One or more of the test scores are non-finite: [0.83680941 0.83678447        nan        nan        nan 0.78754635\n",
      " 0.78754635 0.78754635 0.78754635        nan        nan        nan\n",
      " 0.83680941 0.83678447        nan        nan        nan 0.78754635\n",
      " 0.78755882 0.78755882 0.78740907        nan        nan        nan\n",
      " 0.83680941 0.83678447        nan        nan        nan 0.78765864\n",
      " 0.82469035 0.82469035 0.81384412        nan        nan        nan\n",
      " 0.83680941 0.83678447        nan        nan        nan 0.83004462\n",
      " 0.8349872  0.83494976 0.83093076        nan        nan        nan\n",
      " 0.83680941 0.83678447        nan        nan        nan 0.83622279\n",
      " 0.83680944 0.83687185 0.83527423        nan        nan        nan\n",
      " 0.83680941 0.83678447        nan        nan        nan 0.83653487\n",
      " 0.83673453 0.83669708 0.83655981        nan        nan        nan\n",
      " 0.83680941 0.83678447        nan        nan        nan 0.83677198\n",
      " 0.83679693 0.83654732 0.83682189        nan        nan        nan\n",
      " 0.83680941 0.83678447        nan        nan        nan 0.83678446\n",
      " 0.83682189 0.83670959 0.83680941        nan        nan        nan]\n",
      "  warnings.warn(\n"
     ]
    },
    {
     "name": "stdout",
     "output_type": "stream",
     "text": [
      "Best Score: 0.836871848227903\n",
      "Best Hyperparameters: {'C': 0.1, 'penalty': 'l2', 'solver': 'lbfgs'}\n"
     ]
    },
    {
     "name": "stderr",
     "output_type": "stream",
     "text": [
      "/Users/hyewonjeong/opt/anaconda3/lib/python3.8/site-packages/sklearn/linear_model/_logistic.py:763: ConvergenceWarning: lbfgs failed to converge (status=1):\n",
      "STOP: TOTAL NO. of ITERATIONS REACHED LIMIT.\n",
      "\n",
      "Increase the number of iterations (max_iter) or scale the data as shown in:\n",
      "    https://scikit-learn.org/stable/modules/preprocessing.html\n",
      "Please also refer to the documentation for alternative solver options:\n",
      "    https://scikit-learn.org/stable/modules/linear_model.html#logistic-regression\n",
      "  n_iter_i = _check_optimize_result(\n"
     ]
    }
   ],
   "source": [
    "from pandas import read_csv\n",
    "from sklearn.linear_model import LogisticRegression\n",
    "from sklearn.model_selection import RepeatedStratifiedKFold\n",
    "from sklearn.model_selection import GridSearchCV\n",
    "\n",
    "# define model\n",
    "model = LogisticRegression()\n",
    "\n",
    "# define evaluation\n",
    "cv = RepeatedStratifiedKFold(n_splits=10, n_repeats=3, random_state=1)\n",
    "\n",
    "# define search space\n",
    "space = dict()\n",
    "space['solver'] = ['newton-cg', 'lbfgs', 'liblinear']\n",
    "space['penalty'] = ['none', 'l1', 'l2', 'elasticnet']\n",
    "space['C'] = [1e-5, 1e-4, 1e-3, 1e-2, 1e-1, 1, 10, 100]\n",
    "\n",
    "# define search\n",
    "search = GridSearchCV(model, space, scoring='accuracy', n_jobs=-1, cv=cv)\n",
    "\n",
    "# execute search\n",
    "result = search.fit(X, y)\n",
    "\n",
    "# summarize result\n",
    "print('Best Score: %s' % result.best_score_)\n",
    "print('Best Hyperparameters: %s' % result.best_params_)"
   ]
  },
  {
   "cell_type": "code",
   "execution_count": 118,
   "id": "5950b3f3-8dc3-4f39-8d22-c2064e52fe09",
   "metadata": {},
   "outputs": [],
   "source": [
    "y = df_2.h1n1_vaccine\n",
    "X = df_2.drop(labels = ['h1n1_vaccine','respondent_id','seasonal_vaccine'], axis = 1)\n",
    "\n",
    "X_train, X_test, y_train, y_test = train_test_split(X, y, test_size = .2, random_state = 42, stratify = y)\n",
    "X_train, X_val, y_train, y_val = train_test_split(X_train, y_train, test_size = .25, random_state = 42)"
   ]
  },
  {
   "cell_type": "code",
   "execution_count": 122,
   "id": "55ecb35a-f833-4a18-8fcc-cd08d9072e7e",
   "metadata": {},
   "outputs": [
    {
     "data": {
      "text/plain": [
       "0.834737564750671"
      ]
     },
     "execution_count": 122,
     "metadata": {},
     "output_type": "execute_result"
    }
   ],
   "source": [
    "std_scale = StandardScaler()\n",
    "X_train_scaled = std_scale.fit_transform(X_train)\n",
    "\n",
    "logit = LogisticRegression(C = 0.1, penalty= 'l2', solver = 'lbfgs')\n",
    "logit.fit(X_train_scaled, y_train)\n",
    "\n",
    "y_predict = logit.predict(X_train_scaled) \n",
    "logit.score(X_train_scaled, y_train)"
   ]
  },
  {
   "cell_type": "code",
   "execution_count": 124,
   "id": "ed6f0705-cfcd-43ad-8695-735f643b225e",
   "metadata": {},
   "outputs": [
    {
     "data": {
      "text/plain": [
       "0.8433171096967428"
      ]
     },
     "execution_count": 124,
     "metadata": {},
     "output_type": "execute_result"
    }
   ],
   "source": [
    "std_scale = StandardScaler()\n",
    "X_val_scaled = std_scale.fit_transform(X_val)\n",
    "\n",
    "y_predict = logit.predict(X_val_scaled) \n",
    "logit.score(X_val_scaled, y_val)"
   ]
  },
  {
   "cell_type": "code",
   "execution_count": 125,
   "id": "46b2df6c-08ea-47e5-92f7-f0634049114f",
   "metadata": {},
   "outputs": [
    {
     "name": "stdout",
     "output_type": "stream",
     "text": [
      "Accuracy: 0.8433171096967428\n",
      "Precision: 0.6485411140583555\n",
      "Recall: 0.46088595664467485\n",
      "f1: 0.5388429752066116\n"
     ]
    }
   ],
   "source": [
    "y_pred = logit.predict(X_val_scaled) \n",
    "\n",
    "print(\"Accuracy:\",metrics.accuracy_score(y_val, y_pred))\n",
    "print(\"Precision:\",metrics.precision_score(y_val, y_pred))\n",
    "print(\"Recall:\",metrics.recall_score(y_val, y_pred))\n",
    "print(\"f1:\",metrics.f1_score(y_val, y_pred))"
   ]
  },
  {
   "cell_type": "markdown",
   "id": "aaf75ddb-9a42-49dc-a019-4b01ad899bd6",
   "metadata": {},
   "source": [
    "### Feature importance & Feature selection"
   ]
  },
  {
   "cell_type": "markdown",
   "id": "eb63b7c0-bb89-4142-9fd7-2c4aa19599be",
   "metadata": {},
   "source": [
    "#### Feature importance"
   ]
  },
  {
   "cell_type": "code",
   "execution_count": 31,
   "id": "a945037a-ab6c-4812-b35c-ed32a6a160b5",
   "metadata": {
    "tags": []
   },
   "outputs": [
    {
     "name": "stdout",
     "output_type": "stream",
     "text": [
      "Feature: 0, Score: -0.07531\n",
      "Feature: 1, Score: 0.04564\n",
      "Feature: 2, Score: 0.05487\n",
      "Feature: 3, Score: -0.04940\n",
      "Feature: 4, Score: 0.01194\n",
      "Feature: 5, Score: 0.00215\n",
      "Feature: 6, Score: -0.03563\n",
      "Feature: 7, Score: -0.07814\n",
      "Feature: 8, Score: 0.07052\n",
      "Feature: 9, Score: 0.93515\n",
      "Feature: 10, Score: -0.27781\n",
      "Feature: 11, Score: 0.00086\n",
      "Feature: 12, Score: 0.04865\n",
      "Feature: 13, Score: 0.17181\n",
      "Feature: 14, Score: -0.02093\n",
      "Feature: 15, Score: 0.55611\n",
      "Feature: 16, Score: 0.37108\n",
      "Feature: 17, Score: 0.00405\n",
      "Feature: 18, Score: 0.07284\n",
      "Feature: 19, Score: 0.25883\n",
      "Feature: 20, Score: -0.10925\n",
      "Feature: 21, Score: 0.25689\n",
      "Feature: 22, Score: -0.02359\n",
      "Feature: 23, Score: -0.00775\n",
      "Feature: 24, Score: 0.05503\n",
      "Feature: 25, Score: 0.07463\n",
      "Feature: 26, Score: 0.22439\n",
      "Feature: 27, Score: 0.21214\n",
      "Feature: 28, Score: 0.07053\n",
      "Feature: 29, Score: -0.00135\n",
      "Feature: 30, Score: 0.00443\n",
      "Feature: 31, Score: -0.05932\n",
      "Feature: 32, Score: -0.09227\n",
      "Feature: 33, Score: -0.03449\n",
      "Feature: 34, Score: 0.03619\n",
      "Feature: 35, Score: -0.01800\n",
      "Feature: 36, Score: 0.03247\n",
      "Feature: 37, Score: -0.05944\n",
      "Feature: 38, Score: 0.01818\n",
      "Feature: 39, Score: -0.02980\n",
      "Feature: 40, Score: 0.04102\n",
      "Feature: 41, Score: -0.03368\n",
      "Feature: 42, Score: -0.00128\n",
      "Feature: 43, Score: 0.02329\n",
      "Feature: 44, Score: 0.08946\n",
      "Feature: 45, Score: -0.17856\n",
      "Feature: 46, Score: -0.10787\n",
      "Feature: 47, Score: -0.05409\n",
      "Feature: 48, Score: -0.45460\n",
      "Feature: 49, Score: 0.06826\n",
      "Feature: 50, Score: -0.21175\n",
      "Feature: 51, Score: -0.10409\n",
      "Feature: 52, Score: -0.13098\n",
      "Feature: 53, Score: -0.15616\n",
      "Feature: 54, Score: -0.05944\n",
      "Feature: 55, Score: -0.01757\n",
      "Feature: 56, Score: -0.16518\n",
      "Feature: 57, Score: -0.11774\n",
      "Feature: 58, Score: -0.20895\n",
      "Feature: 59, Score: -0.03795\n",
      "Feature: 60, Score: -0.15169\n",
      "Feature: 61, Score: -0.07278\n",
      "Feature: 62, Score: -0.08367\n",
      "Feature: 63, Score: -0.10509\n",
      "Feature: 64, Score: -0.12376\n",
      "Feature: 65, Score: -0.08727\n",
      "Feature: 66, Score: 0.08596\n",
      "Feature: 67, Score: 0.06826\n",
      "Feature: 68, Score: -0.05460\n",
      "Feature: 69, Score: -0.09248\n",
      "Feature: 70, Score: -0.01741\n",
      "Feature: 71, Score: -0.07836\n",
      "Feature: 72, Score: -0.03037\n",
      "Feature: 73, Score: 0.04137\n",
      "Feature: 74, Score: -0.04802\n",
      "Feature: 75, Score: -0.03362\n",
      "Feature: 76, Score: -0.03773\n",
      "Feature: 77, Score: -0.08280\n",
      "Feature: 78, Score: -0.05863\n",
      "Feature: 79, Score: 0.05411\n",
      "Feature: 80, Score: 0.02928\n",
      "Feature: 81, Score: -0.01579\n",
      "Feature: 82, Score: -0.02948\n",
      "Feature: 83, Score: -0.14571\n",
      "Feature: 84, Score: 0.05570\n",
      "Feature: 85, Score: 0.07446\n",
      "Feature: 86, Score: -0.04656\n"
     ]
    },
    {
     "data": {
      "image/png": "[encoded data removed]",
      "text/plain": [
       "<Figure size 432x288 with 1 Axes>"
      ]
     },
     "metadata": {
      "needs_background": "light"
     },
     "output_type": "display_data"
    }
   ],
   "source": [
    "importance = logit.coef_[0]\n",
    "\n",
    "# summarize feature importance\n",
    "for i,v in enumerate(importance):\n",
    "\tprint('Feature: %0d, Score: %.5f' % (i,v))\n",
    "    \n",
    "# plot feature importance\n",
    "plt.bar([x for x in range(len(importance))], importance)\n",
    "plt.show()"
   ]
  },
  {
   "cell_type": "code",
   "execution_count": 32,
   "id": "901c7c4e-0405-4624-bdd8-01be2283a187",
   "metadata": {},
   "outputs": [],
   "source": [
    "df_3 = df.copy()"
   ]
  },
  {
   "cell_type": "code",
   "execution_count": 33,
   "id": "a13cd97b-e51b-41e1-aa4b-28fa26f12559",
   "metadata": {},
   "outputs": [
    {
     "name": "stderr",
     "output_type": "stream",
     "text": [
      "<ipython-input-33-c6ef3f37a08e>:10: SettingWithCopyWarning: \n",
      "A value is trying to be set on a copy of a slice from a DataFrame.\n",
      "Try using .loc[row_indexer,col_indexer] = value instead\n",
      "\n",
      "See the caveats in the documentation: https://pandas.pydata.org/pandas-docs/stable/user_guide/indexing.html#returning-a-view-versus-a-copy\n",
      "  X[['opinion_h1n1_vacc_effective','opinion_h1n1_risk','opinion_seas_risk','age_group']]= \\\n",
      "/Users/hyewonjeong/opt/anaconda3/lib/python3.8/site-packages/pandas/core/indexing.py:1738: SettingWithCopyWarning: \n",
      "A value is trying to be set on a copy of a slice from a DataFrame.\n",
      "Try using .loc[row_indexer,col_indexer] = value instead\n",
      "\n",
      "See the caveats in the documentation: https://pandas.pydata.org/pandas-docs/stable/user_guide/indexing.html#returning-a-view-versus-a-copy\n",
      "  self._setitem_single_column(loc, value[:, i].tolist(), pi)\n"
     ]
    }
   ],
   "source": [
    "y = df_3.h1n1_vaccine\n",
    "X = df_3[['doctor_recc_h1n1','employment_industry','employment_occupation',\n",
    "         'opinion_h1n1_vacc_effective','opinion_h1n1_risk','opinion_seas_risk','age_group']]\n",
    "\n",
    "\n",
    "ordinal = OrdinalEncoder()\n",
    "\n",
    "ordinal.fit(X[['opinion_h1n1_vacc_effective','opinion_h1n1_risk','opinion_seas_risk','age_group']])\n",
    "\n",
    "X[['opinion_h1n1_vacc_effective','opinion_h1n1_risk','opinion_seas_risk','age_group']]= \\\n",
    "ordinal.transform(X[['opinion_h1n1_vacc_effective','opinion_h1n1_risk','opinion_seas_risk','age_group']])\n",
    "\n",
    "X = pd.get_dummies(X, columns =['doctor_recc_h1n1','employment_industry','employment_occupation'], drop_first = True)"
   ]
  },
  {
   "cell_type": "code",
   "execution_count": 34,
   "id": "099dc7fa-b9da-429a-ab76-4ac938be586a",
   "metadata": {},
   "outputs": [
    {
     "data": {
      "text/plain": [
       "0.8289334082256756"
      ]
     },
     "execution_count": 34,
     "metadata": {},
     "output_type": "execute_result"
    }
   ],
   "source": [
    "X_train, X_test, y_train, y_test = train_test_split(X, y, test_size = .2, random_state = 42, stratify = y )\n",
    "X_train, X_val, y_train, y_val = train_test_split(X_train, y_train, test_size = .25, random_state = 42)\n",
    "\n",
    "std_scale = StandardScaler()\n",
    "X_train_scaled = std_scale.fit_transform(X_train)\n",
    "\n",
    "logit_selected = LogisticRegression(C=1000) # setting C very high essentially removes regularization\n",
    "logit_selected.fit(X_train_scaled, y_train)\n",
    "\n",
    "y_predict = logit_selected.predict(X_train_scaled) \n",
    "logit_selected.score(X_train_scaled, y_train)"
   ]
  },
  {
   "cell_type": "code",
   "execution_count": 35,
   "id": "efec8743-7488-4457-9f73-b291ced34bb8",
   "metadata": {},
   "outputs": [
    {
     "data": {
      "text/plain": [
       "0.8423811306626732"
      ]
     },
     "execution_count": 35,
     "metadata": {},
     "output_type": "execute_result"
    }
   ],
   "source": [
    "std_scale = StandardScaler()\n",
    "X_val_scaled = std_scale.fit_transform(X_val)\n",
    "\n",
    "logit_selected = LogisticRegression(C=1000) # setting C very high essentially removes regularization\n",
    "logit_selected.fit(X_val_scaled, y_val)\n",
    "\n",
    "y_predict = logit_selected.predict(X_train_scaled) \n",
    "logit_selected.score(X_val_scaled, y_val)"
   ]
  },
  {
   "cell_type": "code",
   "execution_count": 36,
   "id": "4a2b664f-a3e8-4895-9ad0-ae6f5efb5c50",
   "metadata": {},
   "outputs": [
    {
     "name": "stdout",
     "output_type": "stream",
     "text": [
      "Accuracy: 0.8423811306626732\n",
      "Precision: 0.6718995290423861\n",
      "Recall: 0.40339302544769085\n",
      "f1: 0.5041224970553592\n"
     ]
    }
   ],
   "source": [
    "y_pred = logit_selected.predict(X_val_scaled) \n",
    "print(\"Accuracy:\",metrics.accuracy_score(y_val, y_pred))\n",
    "print(\"Precision:\",metrics.precision_score(y_val, y_pred))\n",
    "print(\"Recall:\",metrics.recall_score(y_val, y_pred))\n",
    "print(\"f1:\",metrics.f1_score(y_val, y_pred))"
   ]
  },
  {
   "cell_type": "code",
   "execution_count": 37,
   "id": "491802da-74fa-4394-98e9-46314bab4176",
   "metadata": {},
   "outputs": [
    {
     "name": "stdout",
     "output_type": "stream",
     "text": [
      "Logistic Regression on SMOTE Train Data; Test Recall: 0.696, Test AUC: 0.835\n"
     ]
    }
   ],
   "source": [
    "# setup for the ratio argument of RandomOverSampler initialization\n",
    "n_pos = np.sum(y_train == 1)\n",
    "n_neg = np.sum(y_train == 0)\n",
    "ratio = {1 : n_pos * 3, 0 : n_neg} \n",
    "\n",
    "smote = imblearn.over_sampling.SMOTE(sampling_strategy=ratio, random_state = 42)\n",
    "\n",
    "X_tr_smote, y_tr_smote = smote.fit_resample(X_train_scaled, y_train)\n",
    "\n",
    "lr_smote = LogisticRegression(solver='liblinear') \n",
    "lr_smote.fit(X_tr_smote, y_tr_smote)\n",
    "\n",
    "print('Logistic Regression on SMOTE Train Data; Test Recall: %.3f, Test AUC: %.3f' % \\\n",
    "      (recall_score(y_val, lr_smote.predict(X_val_scaled)), roc_auc_score(y_val, lr_smote.predict_proba(X_val_scaled)[:,1])))"
   ]
  },
  {
   "cell_type": "markdown",
   "id": "fded34f6-fd32-4ca3-8fa5-13dfd766a267",
   "metadata": {},
   "source": [
    "# Naive Bayes "
   ]
  },
  {
   "cell_type": "code",
   "execution_count": 131,
   "id": "c52ea263-3625-481b-9b77-f293196a1418",
   "metadata": {},
   "outputs": [],
   "source": [
    "y = df_2.h1n1_vaccine\n",
    "X = df_2.drop(labels = ['h1n1_vaccine','respondent_id','seasonal_vaccine'], axis = 1)\n",
    "\n",
    "X_train, X_test, y_train, y_test = train_test_split(X, y, test_size = .2, random_state = 42, stratify= y)\n",
    "X_train, X_val, y_train, y_val = train_test_split(X_train, y_train, test_size = .25, random_state = 42)"
   ]
  },
  {
   "cell_type": "code",
   "execution_count": 132,
   "id": "f69e38c8-ab2e-4774-af63-31491da9489e",
   "metadata": {},
   "outputs": [
    {
     "data": {
      "text/plain": [
       "0.7907383136740935"
      ]
     },
     "execution_count": 132,
     "metadata": {},
     "output_type": "execute_result"
    }
   ],
   "source": [
    "std_scale = StandardScaler()\n",
    "X_train_scaled = std_scale.fit_transform(X_train)\n",
    "\n",
    "nb = BernoulliNB()\n",
    "nb.fit(X_train_scaled, y_train)\n",
    "nb.score(X_train_scaled, y_train)"
   ]
  },
  {
   "cell_type": "code",
   "execution_count": 133,
   "id": "c7cae829-ff9f-4afd-bfc6-42b78737a895",
   "metadata": {},
   "outputs": [
    {
     "data": {
      "text/plain": [
       "0.8010108573567952"
      ]
     },
     "execution_count": 133,
     "metadata": {},
     "output_type": "execute_result"
    }
   ],
   "source": [
    "std_scale = StandardScaler()\n",
    "X_val_scaled = std_scale.fit_transform(X_val)\n",
    "\n",
    "nb = BernoulliNB()\n",
    "nb.fit(X_val_scaled, y_val)\n",
    "nb.score(X_val_scaled, y_val)"
   ]
  },
  {
   "cell_type": "code",
   "execution_count": 134,
   "id": "70070ff4-48ef-47d6-ac9f-2fdd62e2355f",
   "metadata": {},
   "outputs": [
    {
     "name": "stdout",
     "output_type": "stream",
     "text": [
      "Accuracy: 0.8010108573567952\n",
      "Precision: 0.49917898193760263\n",
      "Recall: 0.5730442978322338\n",
      "f1: 0.5335673541026766\n"
     ]
    }
   ],
   "source": [
    "y_pred =nb.predict(X_val_scaled) \n",
    "print(\"Accuracy:\",metrics.accuracy_score(y_val, y_pred))\n",
    "print(\"Precision:\",metrics.precision_score(y_val, y_pred))\n",
    "print(\"Recall:\",metrics.recall_score(y_val, y_pred))\n",
    "print(\"f1:\",metrics.f1_score(y_val, y_pred))"
   ]
  },
  {
   "cell_type": "code",
   "execution_count": 135,
   "id": "36f289b7-9daf-4b6c-82e1-930f323a09a5",
   "metadata": {},
   "outputs": [
    {
     "name": "stdout",
     "output_type": "stream",
     "text": [
      "Logistic Regression on SMOTE Train Data; Test Recall: 0.687, Test AUC: 0.807\n"
     ]
    }
   ],
   "source": [
    "# setup for the ratio argument of RandomOverSampler initialization\n",
    "n_pos = np.sum(y_train == 1)\n",
    "n_neg = np.sum(y_train == 0)\n",
    "ratio = {1 : n_pos * 3, 0 : n_neg} \n",
    "\n",
    "smote = imblearn.over_sampling.SMOTE(sampling_strategy=ratio, random_state = 42)\n",
    "\n",
    "X_tr_smote, y_tr_smote = smote.fit_resample(X_train_scaled, y_train)\n",
    "\n",
    "nb_smote = BernoulliNB() \n",
    "nb_smote.fit(X_tr_smote, y_tr_smote)\n",
    "\n",
    "print('Logistic Regression on SMOTE Train Data; Test Recall: %.3f, Test AUC: %.3f' % \\\n",
    "      (recall_score(y_val, nb_smote.predict(X_val_scaled)), roc_auc_score(y_val, nb_smote.predict_proba(X_val_scaled)[:,1])))"
   ]
  },
  {
   "cell_type": "markdown",
   "id": "91963d83-dd7c-4bd0-b531-82d95fed7092",
   "metadata": {},
   "source": [
    "### Random Forest "
   ]
  },
  {
   "cell_type": "code",
   "execution_count": 71,
   "id": "49f8b8a0-dd84-484c-b9f1-8219efae3f59",
   "metadata": {},
   "outputs": [],
   "source": [
    "y = df_2.h1n1_vaccine\n",
    "X = df_2.drop(labels = ['h1n1_vaccine','respondent_id','seasonal_vaccine'], axis = 1)\n",
    "\n",
    "X_train, X_test, y_train, y_test = train_test_split(X, y, test_size = .2, random_state = 42, stratify= y)\n",
    "X_train, X_val, y_train, y_val = train_test_split(X_train, y_train, test_size = .25, random_state = 42)"
   ]
  },
  {
   "cell_type": "code",
   "execution_count": 72,
   "id": "65b30d78-ea3e-43ab-b4fe-20819befff5c",
   "metadata": {},
   "outputs": [],
   "source": [
    "# Number of trees in random forest\n",
    "n_estimators = [int(x) for x in np.linspace(start = 10, stop = 80, num = 10)]\n",
    "# Number of features to consider at every split\n",
    "max_features = ['auto', 'sqrt']\n",
    "# Maximum number of levels in tree\n",
    "max_depth = [2,4]\n",
    "# Minimum number of samples required to split a node\n",
    "min_samples_split = [2, 5]\n",
    "# Minimum number of samples required at each leaf node\n",
    "min_samples_leaf = [1, 2]\n",
    "# Method of selecting samples for training each tree\n",
    "bootstrap = [True, False]"
   ]
  },
  {
   "cell_type": "code",
   "execution_count": 73,
   "id": "129e9c43-f894-4870-96da-5b756ca68b64",
   "metadata": {},
   "outputs": [
    {
     "name": "stdout",
     "output_type": "stream",
     "text": [
      "{'n_estimators': [10, 17, 25, 33, 41, 48, 56, 64, 72, 80], 'max_features': ['auto', 'sqrt'], 'max_depth': [2, 4], 'min_samples_split': [2, 5], 'min_samples_leaf': [1, 2], 'bootstrap': [True, False]}\n"
     ]
    }
   ],
   "source": [
    "# Create the param grid\n",
    "param_grid = {'n_estimators': n_estimators,\n",
    "               'max_features': max_features,\n",
    "               'max_depth': max_depth,\n",
    "               'min_samples_split': min_samples_split,\n",
    "               'min_samples_leaf': min_samples_leaf,\n",
    "               'bootstrap': bootstrap}\n",
    "\n",
    "print(param_grid)"
   ]
  },
  {
   "cell_type": "code",
   "execution_count": 74,
   "id": "c9f277f1-269d-485f-844c-e1a096679984",
   "metadata": {},
   "outputs": [],
   "source": [
    "rf = RandomForestClassifier()"
   ]
  },
  {
   "cell_type": "code",
   "execution_count": 75,
   "id": "0d5c8d2f-7c9b-431a-a1a2-f177a87ca845",
   "metadata": {},
   "outputs": [],
   "source": [
    "rf_Grid = GridSearchCV(estimator = rf, param_grid = param_grid, cv = 5, verbose=2, n_jobs = 4)"
   ]
  },
  {
   "cell_type": "code",
   "execution_count": 76,
   "id": "767150c2-a73a-4827-8a32-b3bcc672e0ac",
   "metadata": {},
   "outputs": [
    {
     "name": "stdout",
     "output_type": "stream",
     "text": [
      "Fitting 5 folds for each of 320 candidates, totalling 1600 fits\n"
     ]
    },
    {
     "data": {
      "text/plain": [
       "GridSearchCV(cv=5, estimator=RandomForestClassifier(), n_jobs=4,\n",
       "             param_grid={'bootstrap': [True, False], 'max_depth': [2, 4],\n",
       "                         'max_features': ['auto', 'sqrt'],\n",
       "                         'min_samples_leaf': [1, 2],\n",
       "                         'min_samples_split': [2, 5],\n",
       "                         'n_estimators': [10, 17, 25, 33, 41, 48, 56, 64, 72,\n",
       "                                          80]},\n",
       "             verbose=2)"
      ]
     },
     "execution_count": 76,
     "metadata": {},
     "output_type": "execute_result"
    }
   ],
   "source": [
    "rf_Grid.fit(X_train, y_train)"
   ]
  },
  {
   "cell_type": "code",
   "execution_count": 77,
   "id": "6f90d6b2-f2ba-4ba1-a4b0-8ed0f03d94fb",
   "metadata": {},
   "outputs": [
    {
     "data": {
      "text/plain": [
       "{'bootstrap': True,\n",
       " 'max_depth': 4,\n",
       " 'max_features': 'sqrt',\n",
       " 'min_samples_leaf': 2,\n",
       " 'min_samples_split': 2,\n",
       " 'n_estimators': 10}"
      ]
     },
     "execution_count": 77,
     "metadata": {},
     "output_type": "execute_result"
    }
   ],
   "source": [
    "rf_Grid.best_params_"
   ]
  },
  {
   "cell_type": "code",
   "execution_count": 78,
   "id": "bf4967fb-862b-4d46-a6b5-3f72e41a472a",
   "metadata": {},
   "outputs": [],
   "source": [
    "rf = RandomForestClassifier(bootstrap=True, max_depth = 4, max_features= 'sqrt',min_samples_leaf = 2, \n",
    "                            min_samples_split = 2, n_estimators= 10)"
   ]
  },
  {
   "cell_type": "code",
   "execution_count": 80,
   "id": "ed08d348-10ef-4ce5-9407-fcf7943e0a8e",
   "metadata": {},
   "outputs": [
    {
     "data": {
      "text/plain": [
       "0.7912375959558136"
      ]
     },
     "execution_count": 80,
     "metadata": {},
     "output_type": "execute_result"
    }
   ],
   "source": [
    "rf.fit(X_train, y_train)\n",
    "rf.score(X_train, y_train)"
   ]
  },
  {
   "cell_type": "code",
   "execution_count": 81,
   "id": "1c028ebe-205e-4f03-973e-65a11ab1f842",
   "metadata": {},
   "outputs": [
    {
     "data": {
      "text/plain": [
       "0.8113066267315612"
      ]
     },
     "execution_count": 81,
     "metadata": {},
     "output_type": "execute_result"
    }
   ],
   "source": [
    "rf.score(X_val, y_val)"
   ]
  },
  {
   "cell_type": "code",
   "execution_count": 82,
   "id": "93749501-05e3-4af9-b16e-95627a5d3104",
   "metadata": {},
   "outputs": [
    {
     "name": "stdout",
     "output_type": "stream",
     "text": [
      "Accuracy: 0.8113066267315612\n",
      "Precision: 0.8732394366197183\n",
      "Recall: 0.058435438265786996\n",
      "f1: 0.10954063604240283\n"
     ]
    }
   ],
   "source": [
    "y_pred=rf.predict(X_val)\n",
    "print(\"Accuracy:\",metrics.accuracy_score(y_val, y_pred))\n",
    "print(\"Precision:\",metrics.precision_score(y_val, y_pred))\n",
    "print(\"Recall:\",metrics.recall_score(y_val, y_pred))\n",
    "print(\"f1:\",metrics.f1_score(y_val, y_pred))"
   ]
  },
  {
   "cell_type": "markdown",
   "id": "928aee6c-235b-4887-95de-5ef26dd46f7b",
   "metadata": {},
   "source": [
    "### XGBoost"
   ]
  },
  {
   "cell_type": "code",
   "execution_count": 87,
   "id": "1b445950-008e-4fda-ad11-6ff60f68d756",
   "metadata": {},
   "outputs": [],
   "source": [
    "y = df_2.h1n1_vaccine\n",
    "X = df_2.drop(labels = ['h1n1_vaccine','respondent_id','seasonal_vaccine'], axis = 1)\n",
    "\n",
    "X_train, X_test, y_train, y_test = train_test_split(X, y, test_size = .2, random_state = 42, stratify= y)\n",
    "X_train, X_val, y_train, y_val = train_test_split(X_train, y_train, test_size = .25, random_state = 42)"
   ]
  },
  {
   "cell_type": "code",
   "execution_count": 88,
   "id": "a96115d1-d4ef-4a65-a726-38c6aff65088",
   "metadata": {},
   "outputs": [],
   "source": [
    "estimator = XGBClassifier(\n",
    "    objective= 'binary:logistic',\n",
    "    nthread=4,\n",
    "    seed=42\n",
    ")"
   ]
  },
  {
   "cell_type": "code",
   "execution_count": 54,
   "id": "0771d5e7-4e06-4862-95d9-28905a041c28",
   "metadata": {},
   "outputs": [],
   "source": [
    "parameters = {\n",
    "    'max_depth': range (2, 10, 1),\n",
    "    'n_estimators': range(60, 220, 40),\n",
    "    'learning_rate': [0.1, 0.01, 0.05]\n",
    "}"
   ]
  },
  {
   "cell_type": "code",
   "execution_count": 55,
   "id": "fe55aab8-908a-44d5-ad72-b9b1dd67c30b",
   "metadata": {},
   "outputs": [],
   "source": [
    "grid_search = GridSearchCV(\n",
    "    estimator=estimator,\n",
    "    param_grid=parameters,\n",
    "    scoring = 'roc_auc',\n",
    "    n_jobs = 10,\n",
    "    cv = 10,\n",
    "    verbose=True\n",
    ")"
   ]
  },
  {
   "cell_type": "code",
   "execution_count": 56,
   "id": "df134bb7-3117-42ed-86b3-249891368c06",
   "metadata": {},
   "outputs": [],
   "source": [
    "grid_search = GridSearchCV(\n",
    "    estimator=estimator,\n",
    "    param_grid=parameters,\n",
    "    scoring = 'roc_auc',\n",
    "    n_jobs = 10,\n",
    "    cv = 5,\n",
    "    verbose=True\n",
    ")"
   ]
  },
  {
   "cell_type": "code",
   "execution_count": 57,
   "id": "6b611d24-1641-43ec-935f-a9325c87b536",
   "metadata": {},
   "outputs": [
    {
     "name": "stdout",
     "output_type": "stream",
     "text": [
      "Fitting 5 folds for each of 96 candidates, totalling 480 fits\n"
     ]
    },
    {
     "name": "stderr",
     "output_type": "stream",
     "text": [
      "/Users/hyewonjeong/opt/anaconda3/lib/python3.8/site-packages/xgboost/sklearn.py:888: UserWarning: The use of label encoder in XGBClassifier is deprecated and will be removed in a future release. To remove this warning, do the following: 1) Pass option use_label_encoder=False when constructing XGBClassifier object; and 2) Encode your labels (y) as integers starting with 0, i.e. 0, 1, 2, ..., [num_class - 1].\n",
      "  warnings.warn(label_encoder_deprecation_msg, UserWarning)\n"
     ]
    },
    {
     "name": "stdout",
     "output_type": "stream",
     "text": [
      "[12:20:10] WARNING: /opt/concourse/worker/volumes/live/7a2b9f41-3287-451b-6691-43e9a6c0910f/volume/xgboost-split_1619728204606/work/src/learner.cc:1061: Starting in XGBoost 1.3.0, the default evaluation metric used with the objective 'binary:logistic' was changed from 'error' to 'logloss'. Explicitly set eval_metric if you'd like to restore the old behavior.\n"
     ]
    },
    {
     "data": {
      "text/plain": [
       "GridSearchCV(cv=5,\n",
       "             estimator=XGBClassifier(base_score=None, booster=None,\n",
       "                                     colsample_bylevel=None,\n",
       "                                     colsample_bynode=None,\n",
       "                                     colsample_bytree=None, gamma=None,\n",
       "                                     gpu_id=None, importance_type='gain',\n",
       "                                     interaction_constraints=None,\n",
       "                                     learning_rate=None, max_delta_step=None,\n",
       "                                     max_depth=None, min_child_weight=None,\n",
       "                                     missing=nan, monotone_constraints=None,\n",
       "                                     n_estimators=100, n_jobs=None, nthread=4,\n",
       "                                     num_parallel_tree=None, random_state=None,\n",
       "                                     reg_alpha=None, reg_lambda=None,\n",
       "                                     scale_pos_weight=None, seed=42,\n",
       "                                     subsample=None, tree_method=None,\n",
       "                                     validate_parameters=None, verbosity=None),\n",
       "             n_jobs=10,\n",
       "             param_grid={'learning_rate': [0.1, 0.01, 0.05],\n",
       "                         'max_depth': range(2, 10),\n",
       "                         'n_estimators': range(60, 220, 40)},\n",
       "             scoring='roc_auc', verbose=True)"
      ]
     },
     "execution_count": 57,
     "metadata": {},
     "output_type": "execute_result"
    }
   ],
   "source": [
    "grid_search.fit(X_train, y_train)"
   ]
  },
  {
   "cell_type": "code",
   "execution_count": 58,
   "id": "55b1c0a7-a821-4a5b-bddb-17d400e15e1b",
   "metadata": {},
   "outputs": [
    {
     "data": {
      "text/plain": [
       "XGBClassifier(base_score=0.5, booster='gbtree', colsample_bylevel=1,\n",
       "              colsample_bynode=1, colsample_bytree=1, gamma=0, gpu_id=-1,\n",
       "              importance_type='gain', interaction_constraints='',\n",
       "              learning_rate=0.05, max_delta_step=0, max_depth=4,\n",
       "              min_child_weight=1, missing=nan, monotone_constraints='()',\n",
       "              n_estimators=140, n_jobs=4, nthread=4, num_parallel_tree=1,\n",
       "              random_state=42, reg_alpha=0, reg_lambda=1, scale_pos_weight=1,\n",
       "              seed=42, subsample=1, tree_method='exact', validate_parameters=1,\n",
       "              verbosity=None)"
      ]
     },
     "execution_count": 58,
     "metadata": {},
     "output_type": "execute_result"
    }
   ],
   "source": [
    "grid_search.best_estimator_"
   ]
  },
  {
   "cell_type": "code",
   "execution_count": 91,
   "id": "1d2c9c10-8eff-4c36-a380-d8e2511fc5a5",
   "metadata": {},
   "outputs": [],
   "source": [
    "xgb = XGBClassifier(base_score=0.5, booster='gbtree', colsample_bylevel=1,\n",
    "              colsample_bynode=1, colsample_bytree=1, gamma=0, gpu_id=-1,\n",
    "              importance_type='gain', interaction_constraints='',\n",
    "              learning_rate=0.05, max_delta_step=0, max_depth=4,\n",
    "              min_child_weight=1, monotone_constraints='()',\n",
    "              n_estimators=140, n_jobs=4, nthread=4, num_parallel_tree=1,\n",
    "              random_state=42, reg_alpha=0, reg_lambda=1, scale_pos_weight=1,\n",
    "              seed=42, subsample=1, tree_method='exact', validate_parameters=1,\n",
    "              verbosity=None)"
   ]
  },
  {
   "cell_type": "code",
   "execution_count": 92,
   "id": "56013018-6345-459a-a9d4-d72ab296a4bd",
   "metadata": {},
   "outputs": [
    {
     "name": "stdout",
     "output_type": "stream",
     "text": [
      "[15:02:45] WARNING: /opt/concourse/worker/volumes/live/7a2b9f41-3287-451b-6691-43e9a6c0910f/volume/xgboost-split_1619728204606/work/src/learner.cc:1061: Starting in XGBoost 1.3.0, the default evaluation metric used with the objective 'binary:logistic' was changed from 'error' to 'logloss'. Explicitly set eval_metric if you'd like to restore the old behavior.\n"
     ]
    },
    {
     "data": {
      "text/plain": [
       "0.8497784434874868"
      ]
     },
     "execution_count": 92,
     "metadata": {},
     "output_type": "execute_result"
    }
   ],
   "source": [
    "xgb.fit(X_train, y_train)\n",
    "xgb.score(X_train, y_train)"
   ]
  },
  {
   "cell_type": "code",
   "execution_count": 93,
   "id": "b222110a-c691-45d1-b320-dba609df35b1",
   "metadata": {},
   "outputs": [
    {
     "data": {
      "text/plain": [
       "0.8444402845376263"
      ]
     },
     "execution_count": 93,
     "metadata": {},
     "output_type": "execute_result"
    }
   ],
   "source": [
    "xgb.score(X_val, y_val)"
   ]
  },
  {
   "cell_type": "code",
   "execution_count": 94,
   "id": "6fae9097-bae8-4735-813c-9b48745bce04",
   "metadata": {},
   "outputs": [
    {
     "name": "stdout",
     "output_type": "stream",
     "text": [
      "Accuracy: 0.8444402845376263\n",
      "Precision: 0.6501305483028721\n",
      "Recall: 0.46936852026390197\n",
      "f1: 0.5451559934318555\n"
     ]
    }
   ],
   "source": [
    "y_pred=xgb.predict(X_val)\n",
    "print(\"Accuracy:\",metrics.accuracy_score(y_val, y_pred))\n",
    "print(\"Precision:\",metrics.precision_score(y_val, y_pred))\n",
    "print(\"Recall:\",metrics.recall_score(y_val, y_pred))\n",
    "print(\"f1:\",metrics.f1_score(y_val, y_pred))"
   ]
  },
  {
   "cell_type": "markdown",
   "id": "a19a61b4-51cb-4c79-9454-e018e8b92a5b",
   "metadata": {},
   "source": [
    "# Test scores on Holdout "
   ]
  },
  {
   "cell_type": "code",
   "execution_count": 129,
   "id": "6dd9b316-0a38-4f59-ba03-b27e881b9bb2",
   "metadata": {},
   "outputs": [],
   "source": [
    "y = df_2.h1n1_vaccine\n",
    "X = df_2.drop(labels = ['h1n1_vaccine','respondent_id','seasonal_vaccine'], axis = 1)\n",
    "\n",
    "X_train, X_test, y_train, y_test = train_test_split(X, y, test_size = .2, random_state = 42, stratify= y)\n",
    "X_train, X_val, y_train, y_val = train_test_split(X_train, y_train, test_size = .25, random_state = 42)"
   ]
  },
  {
   "cell_type": "code",
   "execution_count": 136,
   "id": "72719499-5068-4c49-b60c-2a76db5c7dc3",
   "metadata": {},
   "outputs": [
    {
     "data": {
      "text/plain": [
       "0.8021340321976788"
      ]
     },
     "execution_count": 136,
     "metadata": {},
     "output_type": "execute_result"
    }
   ],
   "source": [
    "std_scale = StandardScaler()\n",
    "X_test_scaled = std_scale.fit_transform(X_test)\n",
    "\n",
    "nb.fit(X_test_scaled, y_test)\n",
    "nb.score(X_test_scaled, y_test)"
   ]
  },
  {
   "cell_type": "code",
   "execution_count": 137,
   "id": "44d1476b-666a-4db8-8c8a-377802626df8",
   "metadata": {},
   "outputs": [
    {
     "name": "stdout",
     "output_type": "stream",
     "text": [
      "Accuracy: 0.8021340321976788\n",
      "Precision: 0.5328282828282829\n",
      "Recall: 0.5577092511013216\n",
      "f1: 0.5449849332759364\n"
     ]
    }
   ],
   "source": [
    "y_pred = nb.predict(X_test_scaled) \n",
    "\n",
    "print(\"Accuracy:\",metrics.accuracy_score(y_test, y_pred))\n",
    "print(\"Precision:\",metrics.precision_score(y_test, y_pred))\n",
    "print(\"Recall:\",metrics.recall_score(y_test, y_pred))\n",
    "print(\"f1:\",metrics.f1_score(y_test, y_pred))"
   ]
  },
  {
   "cell_type": "code",
   "execution_count": 138,
   "id": "4bc6294f-be3c-4e14-8496-e9d4bdc684a3",
   "metadata": {},
   "outputs": [
    {
     "name": "stdout",
     "output_type": "stream",
     "text": [
      "ROC AUC score =  0.7921383387662055\n"
     ]
    },
    {
     "data": {
      "image/png": "[encoded data removed]",
      "text/plain": [
       "<Figure size 432x288 with 1 Axes>"
      ]
     },
     "metadata": {
      "needs_background": "light"
     },
     "output_type": "display_data"
    }
   ],
   "source": [
    "fpr, tpr, thresholds = roc_curve(y_test, nb.predict_proba(X_test_scaled)[:,1])\n",
    "\n",
    "plt.plot(fpr, tpr,lw=2)\n",
    "plt.plot([0,1],[0,1],c='violet',ls='--')\n",
    "plt.xlim([-0.05,1.05])\n",
    "plt.ylim([-0.05,1.05])\n",
    "\n",
    "\n",
    "plt.xlabel('False positive rate')\n",
    "plt.ylabel('True positive rate')\n",
    "plt.title('ROC curve');\n",
    "print(\"ROC AUC score = \", roc_auc_score(y_test, nb.predict_proba(X_test_scaled)[:,1]))"
   ]
  },
  {
   "cell_type": "code",
   "execution_count": 141,
   "id": "06bc2eb7-0158-4e89-8b29-fef5dcb7b22b",
   "metadata": {},
   "outputs": [],
   "source": [
    "from sklearn.metrics import confusion_matrix\n",
    "def make_confusion_matrix(model, threshold=0.5):\n",
    "    # Predict class 1 if probability of being in class 1 is greater than threshold\n",
    "    # (model.predict(X_test) does this automatically with a threshold of 0.5)\n",
    "    y_predict = (model.predict_proba(X_test_scaled)[:, 1] >= threshold)\n",
    "    fraud_confusion = confusion_matrix(y_test, y_predict)\n",
    "    plt.figure(dpi=80)\n",
    "    sns.heatmap(fraud_confusion, cmap=plt.cm.BuGn, annot=True, square=True, fmt='d',\n",
    "           xticklabels=['non-vaccinated', 'vaccinated'],\n",
    "           yticklabels=['non-vaccinated', 'vaccinated']);\n",
    "    plt.xlabel('prediction')\n",
    "    plt.ylabel('actual')"
   ]
  },
  {
   "cell_type": "code",
   "execution_count": 142,
   "id": "447e6d43-e432-4be4-a5bb-42ea4262ade2",
   "metadata": {},
   "outputs": [
    {
     "data": {
      "image/png": "[encoded data removed]",
      "text/plain": [
       "<Figure size 480x320 with 2 Axes>"
      ]
     },
     "metadata": {
      "needs_background": "light"
     },
     "output_type": "display_data"
    }
   ],
   "source": [
    "make_confusion_matrix(nb)"
   ]
  },
  {
   "cell_type": "code",
   "execution_count": 54,
   "id": "eed96bc9-cc46-4818-962a-b6afb421e6a6",
   "metadata": {},
   "outputs": [
    {
     "data": {
      "text/plain": [
       "0.840134780980906"
      ]
     },
     "execution_count": 54,
     "metadata": {},
     "output_type": "execute_result"
    }
   ],
   "source": [
    "# logistic regression with the entire features\n",
    "std_scale = StandardScaler()\n",
    "X_test_scaled = std_scale.fit_transform(X_test)\n",
    "\n",
    "logit = LogisticRegression(C=1000) # setting C very high essentially removes regularization\n",
    "logit.fit(X_test_scaled, y_test)\n",
    "logit.score(X_test_scaled, y_test)"
   ]
  },
  {
   "cell_type": "code",
   "execution_count": 55,
   "id": "138c154d-cfaf-4721-adf0-dffb0f8adc92",
   "metadata": {},
   "outputs": [
    {
     "name": "stdout",
     "output_type": "stream",
     "text": [
      "Accuracy: 0.840134780980906\n",
      "Precision: 0.689608636977058\n",
      "Recall: 0.4502202643171806\n",
      "f1: 0.5447761194029851\n"
     ]
    }
   ],
   "source": [
    "y_pred = logit.predict(X_test_scaled) \n",
    "\n",
    "print(\"Accuracy:\",metrics.accuracy_score(y_test, y_pred))\n",
    "print(\"Precision:\",metrics.precision_score(y_test, y_pred))\n",
    "print(\"Recall:\",metrics.recall_score(y_test, y_pred))\n",
    "print(\"f1:\",metrics.f1_score(y_test, y_pred))"
   ]
  },
  {
   "cell_type": "code",
   "execution_count": 38,
   "id": "9337c325-0770-4463-9b75-8c500c4b3d75",
   "metadata": {},
   "outputs": [
    {
     "data": {
      "text/plain": [
       "0.8371396480718832"
      ]
     },
     "execution_count": 38,
     "metadata": {},
     "output_type": "execute_result"
    }
   ],
   "source": [
    "# logistic regression with feature selection\n",
    "\n",
    "std_scale = StandardScaler()\n",
    "X_test_scaled = std_scale.fit_transform(X_test)\n",
    "\n",
    "logit_selected = LogisticRegression(C=1000) # setting C very high essentially removes regularization\n",
    "logit_selected.fit(X_test_scaled, y_test)\n",
    "\n",
    "y_predict = logit_selected.predict(X_test_scaled) \n",
    "logit_selected.score(X_test_scaled, y_test)"
   ]
  },
  {
   "cell_type": "code",
   "execution_count": 39,
   "id": "8b1ef6d9-1cbe-48de-bc1e-4619fccf8e35",
   "metadata": {},
   "outputs": [
    {
     "name": "stdout",
     "output_type": "stream",
     "text": [
      "Accuracy: 0.8371396480718832\n",
      "Precision: 0.6842837273991655\n",
      "Recall: 0.43348017621145374\n",
      "f1: 0.5307443365695793\n"
     ]
    }
   ],
   "source": [
    "y_pred = logit_selected.predict(X_test_scaled) \n",
    "\n",
    "print(\"Accuracy:\",metrics.accuracy_score(y_test, y_pred))\n",
    "print(\"Precision:\",metrics.precision_score(y_test, y_pred))\n",
    "print(\"Recall:\",metrics.recall_score(y_test, y_pred))\n",
    "print(\"f1:\",metrics.f1_score(y_test, y_pred))"
   ]
  },
  {
   "cell_type": "code",
   "execution_count": 56,
   "id": "f8e541a0-d182-4523-9203-925010de1eb6",
   "metadata": {},
   "outputs": [
    {
     "name": "stdout",
     "output_type": "stream",
     "text": [
      "ROC AUC score =  0.8400785768213037\n"
     ]
    },
    {
     "data": {
      "image/png": "[encoded data removed]",
      "text/plain": [
       "<Figure size 432x288 with 1 Axes>"
      ]
     },
     "metadata": {
      "needs_background": "light"
     },
     "output_type": "display_data"
    }
   ],
   "source": [
    "fpr, tpr, thresholds = roc_curve(y_test, logit.predict_proba(X_test_scaled)[:,1])\n",
    "\n",
    "plt.plot(fpr, tpr,lw=2)\n",
    "plt.plot([0,1],[0,1],c='violet',ls='--')\n",
    "plt.xlim([-0.05,1.05])\n",
    "plt.ylim([-0.05,1.05])\n",
    "\n",
    "\n",
    "plt.xlabel('False positive rate')\n",
    "plt.ylabel('True positive rate')\n",
    "plt.title('ROC curve');\n",
    "print(\"ROC AUC score = \", roc_auc_score(y_test, logit.predict_proba(X_test_scaled)[:,1]))"
   ]
  },
  {
   "cell_type": "code",
   "execution_count": null,
   "id": "40ca0684-13b2-4778-b48d-8750745fb48b",
   "metadata": {},
   "outputs": [],
   "source": []
  }
 ],
 "metadata": {
  "kernelspec": {
   "display_name": "Python 3",
   "language": "python",
   "name": "python3"
  },
  "language_info": {
   "codemirror_mode": {
    "name": "ipython",
    "version": 3
   },
   "file_extension": ".py",
   "mimetype": "text/x-python",
   "name": "python",
   "nbconvert_exporter": "python",
   "pygments_lexer": "ipython3",
   "version": "3.8.8"
  }
 },
 "nbformat": 4,
 "nbformat_minor": 5
}
