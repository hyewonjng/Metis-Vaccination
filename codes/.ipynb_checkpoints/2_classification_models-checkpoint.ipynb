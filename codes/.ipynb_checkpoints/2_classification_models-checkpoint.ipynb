{
 "cells": [
  {
   "cell_type": "markdown",
   "id": "43118488-2df3-43bd-a9e1-0b2ffaaaa683",
   "metadata": {},
   "source": [
    "## Baseline with a logistic regression"
   ]
  },
  {
   "cell_type": "code",
   "execution_count": null,
   "id": "f1da7583-30f3-46ba-822a-2810a7be341d",
   "metadata": {},
   "outputs": [],
   "source": [
    "import pandas as pd\n",
    "import numpy as np\n",
    "import pickle\n",
    "\n",
    "import seaborn as sns\n",
    "import matplotlib.pyplot as plt\n",
    "\n",
    "from sklearn.model_selection import train_test_split\n",
    "from sklearn.preprocessing import StandardScaler\n",
    "from sklearn.linear_model import LogisticRegression\n",
    "import sklearn.metrics as metrics\n",
    "from sklearn.compose import make_column_transformer\n",
    "from sklearn.preprocessing import OrdinalEncoder\n",
    "from sklearn.model_selection import GridSearchCV\n",
    "from sklearn.metrics import roc_auc_score, roc_curve\n",
    "from sklearn.ensemble import RandomForestClassifier\n",
    "from sklearn.naive_bayes import BernoulliNB, MultinomialNB, GaussianNB\n",
    "from sklearn.metrics import precision_score, recall_score, precision_recall_curve,f1_score, fbeta_score\n",
    "\n",
    "from xgboost import XGBClassifier\n",
    "import imblearn.over_sampling"
   ]
  },
  {
   "cell_type": "markdown",
   "id": "a162309b-29e2-44a1-9f43-b77ac41e594b",
   "metadata": {},
   "source": [
    "### Feature Engeenering"
   ]
  },
  {
   "cell_type": "markdown",
   "id": "cc1556b0-9204-401f-8100-b840655cfd77",
   "metadata": {},
   "source": [
    "> Treating categorical variables"
   ]
  },
  {
   "cell_type": "code",
   "execution_count": null,
   "id": "be6c790c-1536-4181-94f0-d0b93ea47d9e",
   "metadata": {},
   "outputs": [],
   "source": [
    "df = pd.read_pickle('df.pkl')"
   ]
  },
  {
   "cell_type": "code",
   "execution_count": 105,
   "id": "40247739-6d7f-49d7-bd2c-2b71d7ed7195",
   "metadata": {},
   "outputs": [],
   "source": [
    "df_2 = df.copy()"
   ]
  },
  {
   "cell_type": "code",
   "execution_count": 106,
   "id": "45a21dd3-5bad-48b0-8308-cb3f73e9dd98",
   "metadata": {},
   "outputs": [
    {
     "data": {
      "text/plain": [
       "array(['Unemployed', 'Employed'], dtype=object)"
      ]
     },
     "execution_count": 106,
     "metadata": {},
     "output_type": "execute_result"
    }
   ],
   "source": [
    "# In the particular feature, 'employment_status', there are two relevant categories so combining those as 'unemployed'.\n",
    "\n",
    "df_2['employment_status'] = ['Unemployed' if status == 'Not in Labor Force' else status for status in df.employment_status]\n",
    "df_2.employment_status.unique()"
   ]
  },
  {
   "cell_type": "code",
   "execution_count": 107,
   "id": "c4d31de1-491c-467f-851f-35bc5bbb7007",
   "metadata": {},
   "outputs": [
    {
     "data": {
      "text/plain": [
       "array([[0., 3., 0.],\n",
       "       [1., 1., 0.],\n",
       "       [2., 0., 1.],\n",
       "       ...,\n",
       "       [3., 3., 1.],\n",
       "       [3., 0., 1.],\n",
       "       [3., 4., 1.]])"
      ]
     },
     "execution_count": 107,
     "metadata": {},
     "output_type": "execute_result"
    }
   ],
   "source": [
    "# Treating ordinal variables to make sure that they are encoded in the correct orders.\n",
    "\n",
    "education_lvl = [['< 12 Years','12 Years','College Graduate','Some College']]\n",
    "age_lvl = [['18 - 34 Years','35 - 44 Years','45 - 54 Years','55 - 64 Years','65+ Years']]\n",
    "income_lvl = [['Below Poverty','<= $75,000, Above Poverty','> $75,000']]\n",
    "\n",
    "transformer = make_column_transformer(\n",
    "    (OrdinalEncoder(categories=education_lvl), ['education']),\n",
    "    (OrdinalEncoder(categories=age_lvl), ['age_group']),\n",
    "    (OrdinalEncoder(categories=income_lvl), ['income_poverty'])\n",
    ")\n",
    "\n",
    "transformer.fit_transform(df_2)"
   ]
  },
  {
   "cell_type": "code",
   "execution_count": 108,
   "id": "59d96a42-e32b-4999-96fe-868d95c4d48a",
   "metadata": {},
   "outputs": [],
   "source": [
    "# these are all ordinal variables that have incremental orders in each variables. \n",
    "variable= OrdinalEncoder()\n",
    "\n",
    "ordinal.fit(df_2[['h1n1_concern','h1n1_knowledge','opinion_h1n1_vacc_effective','opinion_h1n1_risk',\n",
    "                'opinion_h1n1_sick_from_vacc','opinion_seas_vacc_effective','opinion_seas_risk',\n",
    "                'opinion_seas_sick_from_vacc','household_adults','household_children','education','age_group']])\n",
    "\n",
    "df_2[['h1n1_concern','h1n1_knowledge','opinion_h1n1_vacc_effective','opinion_h1n1_risk',\n",
    "    'opinion_h1n1_sick_from_vacc','opinion_seas_vacc_effective','opinion_seas_risk',\n",
    "    'opinion_seas_sick_from_vacc','household_adults','household_children','education','age_group']] = ordinal.transform(df_2[['h1n1_concern',\n",
    "                                                                                                    'h1n1_knowledge','opinion_h1n1_vacc_effective',\n",
    "                        'opinion_h1n1_risk','opinion_h1n1_sick_from_vacc','opinion_seas_vacc_effective',\n",
    "                        'opinion_seas_risk','opinion_seas_sick_from_vacc','household_adults','household_children','education','age_group']])"
   ]
  },
  {
   "cell_type": "code",
   "execution_count": 109,
   "id": "276928c2-28d4-4896-9858-4594fdab83a6",
   "metadata": {},
   "outputs": [],
   "source": [
    "# creating dummy variables for categorical features\n",
    "df_2 = pd.get_dummies(df_2, columns =['race','sex','income_poverty',\n",
    "                                    'marital_status','rent_or_own','employment_status','census_msa','hhs_geo_region',\n",
    "                                     'employment_industry','employment_occupation'], drop_first = True)"
   ]
  },
  {
   "cell_type": "code",
   "execution_count": 97,
   "id": "8f3c4524-c7cb-401e-ab0c-0db18e7dca5f",
   "metadata": {},
   "outputs": [],
   "source": [
    "# creating target and feature variables\n",
    "y = df_2.h1n1_vaccine\n",
    "X = df_2.drop(labels = ['h1n1_vaccine','respondent_id','seasonal_vaccine'], axis = 1)\n",
    "\n",
    "X_train, X_test, y_train, y_test = train_test_split(X, y, test_size = .2, random_state = 42, stratify = y)\n",
    "X_train, X_val, y_train, y_val = train_test_split(X_train, y_train, test_size = .25, random_state = 42)"
   ]
  },
  {
   "cell_type": "code",
   "execution_count": 99,
   "id": "e72c6fe3-ec8d-4cfa-9cca-9ca295bb4c31",
   "metadata": {},
   "outputs": [
    {
     "data": {
      "text/plain": [
       "0.8350496161767459"
      ]
     },
     "execution_count": 99,
     "metadata": {},
     "output_type": "execute_result"
    }
   ],
   "source": [
    "std_scale = StandardScaler()\n",
    "X_train_scaled = std_scale.fit_transform(X_train)\n",
    "\n",
    "logit = LogisticRegression(C=1000) # setting C very high essentially removes regularization\n",
    "logit.fit(X_train_scaled, y_train)\n",
    "\n",
    "y_predict = logit.predict(X_train_scaled) \n",
    "logit.score(X_train_scaled, y_train)"
   ]
  },
  {
   "cell_type": "code",
   "execution_count": 65,
   "id": "2f0dba94-1103-4215-81b9-a0641046608c",
   "metadata": {},
   "outputs": [
    {
     "data": {
      "text/plain": [
       "0.847809809060277"
      ]
     },
     "execution_count": 65,
     "metadata": {},
     "output_type": "execute_result"
    }
   ],
   "source": [
    "std_scale = StandardScaler()\n",
    "X_val_scaled = std_scale.fit_transform(X_val)\n",
    "\n",
    "logit = LogisticRegression(C=1000) # setting C very high essentially removes regularization\n",
    "logit.fit(X_val_scaled, y_val)\n",
    "logit.score(X_val_scaled, y_val)"
   ]
  },
  {
   "cell_type": "code",
   "execution_count": 66,
   "id": "14acff1a-32cb-4de3-a1e0-2155e39e547a",
   "metadata": {},
   "outputs": [
    {
     "name": "stdout",
     "output_type": "stream",
     "text": [
      "Accuracy: 0.847809809060277\n",
      "Precision: 0.6797101449275362\n",
      "Recall: 0.4420358152686145\n",
      "f1: 0.5356938892061679\n"
     ]
    }
   ],
   "source": [
    "y_pred = logit.predict(X_val_scaled) \n",
    "\n",
    "print(\"Accuracy:\",metrics.accuracy_score(y_val, y_pred))\n",
    "print(\"Precision:\",metrics.precision_score(y_val, y_pred))\n",
    "print(\"Recall:\",metrics.recall_score(y_val, y_pred))\n",
    "print(\"f1:\",metrics.f1_score(y_val, y_pred))"
   ]
  },
  {
   "cell_type": "code",
   "execution_count": 67,
   "id": "f1a40df3-4295-40c9-8ed9-ec609e0c7e02",
   "metadata": {},
   "outputs": [
    {
     "name": "stdout",
     "output_type": "stream",
     "text": [
      "ROC AUC score =  0.8537081962008665\n"
     ]
    },
    {
     "data": {
      "image/png": "[encoded data removed]",
      "text/plain": [
       "<Figure size 432x288 with 1 Axes>"
      ]
     },
     "metadata": {
      "needs_background": "light"
     },
     "output_type": "display_data"
    }
   ],
   "source": [
    "fpr, tpr, thresholds = roc_curve(y_val, logit.predict_proba(X_val_scaled)[:,1])\n",
    "\n",
    "plt.plot(fpr, tpr,lw=2)\n",
    "plt.plot([0,1],[0,1],c='violet',ls='--')\n",
    "plt.xlim([-0.05,1.05])\n",
    "plt.ylim([-0.05,1.05])\n",
    "\n",
    "\n",
    "plt.xlabel('False positive rate')\n",
    "plt.ylabel('True positive rate')\n",
    "plt.title('ROC curve');\n",
    "print(\"ROC AUC score = \", roc_auc_score(y_val, logit.predict_proba(X_val_scaled)[:,1]))"
   ]
  },
  {
   "cell_type": "markdown",
   "id": "324c336e-2f5e-4dcd-a95f-cbd857e1ab76",
   "metadata": {},
   "source": [
    "### Treating Class Imbalance"
   ]
  },
  {
   "cell_type": "code",
   "execution_count": 27,
   "id": "896f3ea0-5de1-49a9-91ad-f50130888411",
   "metadata": {},
   "outputs": [
    {
     "name": "stdout",
     "output_type": "stream",
     "text": [
      "Logistic Regression on SMOTE Train Data; Test Recall: 0.697, Test AUC: 0.841\n"
     ]
    }
   ],
   "source": [
    "# setup for the ratio argument of RandomOverSampler initialization\n",
    "n_pos = np.sum(y_train == 1)\n",
    "n_neg = np.sum(y_train == 0)\n",
    "ratio = {1 : n_pos * 3, 0 : n_neg} \n",
    "\n",
    "smote = imblearn.over_sampling.SMOTE(sampling_strategy=ratio, random_state = 42)\n",
    "\n",
    "X_tr_smote, y_tr_smote = smote.fit_resample(X_train_scaled, y_train)\n",
    "\n",
    "lr_smote = LogisticRegression(solver='liblinear') \n",
    "lr_smote.fit(X_tr_smote, y_tr_smote)\n",
    "\n",
    "print('Logistic Regression on SMOTE Train Data; Test Recall: %.3f, Test AUC: %.3f' % \\\n",
    "      (recall_score(y_val, lr_smote.predict(X_val_scaled)), roc_auc_score(y_val, lr_smote.predict_proba(X_val_scaled)[:,1])))"
   ]
  },
  {
   "cell_type": "markdown",
   "id": "edde6536-f240-417d-a8be-4dc44fa5388f",
   "metadata": {},
   "source": [
    "### Grid Search and Class Weight for Logistic Regression"
   ]
  },
  {
   "cell_type": "code",
   "execution_count": 151,
   "id": "0cb0a4c3-0736-4042-8d7e-05832c38eddf",
   "metadata": {},
   "outputs": [],
   "source": [
    "y = df_2.h1n1_vaccine\n",
    "X = df_2.drop(labels = ['h1n1_vaccine','respondent_id','seasonal_vaccine'], axis = 1)"
   ]
  },
  {
   "cell_type": "code",
   "execution_count": 152,
   "id": "33a3adf4-7def-4e14-9ad6-18371fc7451f",
   "metadata": {},
   "outputs": [
    {
     "name": "stderr",
     "output_type": "stream",
     "text": [
      "/Users/hyewonjeong/opt/anaconda3/lib/python3.8/site-packages/sklearn/model_selection/_search.py:918: UserWarning: One or more of the test scores are non-finite: [0.83680941 0.83678447        nan        nan        nan 0.78754635\n",
      " 0.78754635 0.78754635 0.78754635        nan        nan        nan\n",
      " 0.83680941 0.83678447        nan        nan        nan 0.78754635\n",
      " 0.78755882 0.78755882 0.78740907        nan        nan        nan\n",
      " 0.83680941 0.83678447        nan        nan        nan 0.78764616\n",
      " 0.82469035 0.82469035 0.81384412        nan        nan        nan\n",
      " 0.83680941 0.83678447        nan        nan        nan 0.8300571\n",
      " 0.8349872  0.83494976 0.83093076        nan        nan        nan\n",
      " 0.83680941 0.83678447        nan        nan        nan 0.83622279\n",
      " 0.83680944 0.83687185 0.83527423        nan        nan        nan\n",
      " 0.83680941 0.83678447        nan        nan        nan 0.83654735\n",
      " 0.83673453 0.83669708 0.83655981        nan        nan        nan\n",
      " 0.83680941 0.83678447        nan        nan        nan 0.83677198\n",
      " 0.83679693 0.83654732 0.83682189        nan        nan        nan\n",
      " 0.83680941 0.83678447        nan        nan        nan 0.83674701\n",
      " 0.83682189 0.83670959 0.83680941        nan        nan        nan]\n",
      "  warnings.warn(\n"
     ]
    },
    {
     "name": "stdout",
     "output_type": "stream",
     "text": [
      "Best Score: 0.836871848227903\n",
      "Best Hyperparameters: {'C': 0.1, 'penalty': 'l2', 'solver': 'lbfgs'}\n"
     ]
    },
    {
     "name": "stderr",
     "output_type": "stream",
     "text": [
      "/Users/hyewonjeong/opt/anaconda3/lib/python3.8/site-packages/sklearn/linear_model/_logistic.py:763: ConvergenceWarning: lbfgs failed to converge (status=1):\n",
      "STOP: TOTAL NO. of ITERATIONS REACHED LIMIT.\n",
      "\n",
      "Increase the number of iterations (max_iter) or scale the data as shown in:\n",
      "    https://scikit-learn.org/stable/modules/preprocessing.html\n",
      "Please also refer to the documentation for alternative solver options:\n",
      "    https://scikit-learn.org/stable/modules/linear_model.html#logistic-regression\n",
      "  n_iter_i = _check_optimize_result(\n"
     ]
    }
   ],
   "source": [
    "from pandas import read_csv\n",
    "from sklearn.linear_model import LogisticRegression\n",
    "from sklearn.model_selection import RepeatedStratifiedKFold\n",
    "from sklearn.model_selection import GridSearchCV\n",
    "\n",
    "# define model\n",
    "model = LogisticRegression()\n",
    "\n",
    "# define evaluation\n",
    "cv = RepeatedStratifiedKFold(n_splits=10, n_repeats=3, random_state=1)\n",
    "\n",
    "# define search space\n",
    "space = dict()\n",
    "space['solver'] = ['newton-cg', 'lbfgs', 'liblinear']\n",
    "space['penalty'] = ['none', 'l1', 'l2', 'elasticnet']\n",
    "space['C'] = [1e-5, 1e-4, 1e-3, 1e-2, 1e-1, 1, 10, 100]\n",
    "\n",
    "# define search\n",
    "search = GridSearchCV(model, space, scoring='accuracy', n_jobs=-1, cv=cv)\n",
    "\n",
    "# execute search\n",
    "result = search.fit(X, y)\n",
    "\n",
    "# summarize result\n",
    "print('Best Score: %s' % result.best_score_)\n",
    "print('Best Hyperparameters: %s' % result.best_params_)"
   ]
  },
  {
   "cell_type": "code",
   "execution_count": 154,
   "id": "5950b3f3-8dc3-4f39-8d22-c2064e52fe09",
   "metadata": {},
   "outputs": [],
   "source": [
    "y = df_2.h1n1_vaccine\n",
    "X = df_2.drop(labels = ['h1n1_vaccine','respondent_id','seasonal_vaccine'], axis = 1)\n",
    "\n",
    "X_train, X_test, y_train, y_test = train_test_split(X, y, test_size = .2, random_state = 42, stratify = y)\n",
    "X_train, X_val, y_train, y_val = train_test_split(X_train, y_train, test_size = .25, random_state = 42)"
   ]
  },
  {
   "cell_type": "code",
   "execution_count": 155,
   "id": "55ecb35a-f833-4a18-8fcc-cd08d9072e7e",
   "metadata": {},
   "outputs": [
    {
     "data": {
      "text/plain": [
       "0.834737564750671"
      ]
     },
     "execution_count": 155,
     "metadata": {},
     "output_type": "execute_result"
    }
   ],
   "source": [
    "std_scale = StandardScaler()\n",
    "X_train_scaled = std_scale.fit_transform(X_train)\n",
    "\n",
    "logit = LogisticRegression(C = 0.1, penalty= 'l2', solver = 'lbfgs')\n",
    "logit.fit(X_train_scaled, y_train)\n",
    "\n",
    "y_predict = logit.predict(X_train_scaled) \n",
    "logit.score(X_train_scaled, y_train)"
   ]
  },
  {
   "cell_type": "code",
   "execution_count": 156,
   "id": "ed6f0705-cfcd-43ad-8695-735f643b225e",
   "metadata": {},
   "outputs": [
    {
     "data": {
      "text/plain": [
       "0.8433171096967428"
      ]
     },
     "execution_count": 156,
     "metadata": {},
     "output_type": "execute_result"
    }
   ],
   "source": [
    "std_scale = StandardScaler()\n",
    "X_val_scaled = std_scale.fit_transform(X_val)\n",
    "\n",
    "y_predict = logit.predict(X_val_scaled) \n",
    "logit.score(X_val_scaled, y_val)"
   ]
  },
  {
   "cell_type": "code",
   "execution_count": 157,
   "id": "46b2df6c-08ea-47e5-92f7-f0634049114f",
   "metadata": {},
   "outputs": [
    {
     "name": "stdout",
     "output_type": "stream",
     "text": [
      "Accuracy: 0.8433171096967428\n",
      "Precision: 0.6485411140583555\n",
      "Recall: 0.46088595664467485\n",
      "f1: 0.5388429752066116\n"
     ]
    }
   ],
   "source": [
    "y_pred = logit.predict(X_val_scaled) \n",
    "\n",
    "print(\"Accuracy:\",metrics.accuracy_score(y_val, y_pred))\n",
    "print(\"Precision:\",metrics.precision_score(y_val, y_pred))\n",
    "print(\"Recall:\",metrics.recall_score(y_val, y_pred))\n",
    "print(\"f1:\",metrics.f1_score(y_val, y_pred))"
   ]
  },
  {
   "cell_type": "code",
   "execution_count": 158,
   "id": "a0e48f55-6bd0-487a-bdb7-c7c57194870a",
   "metadata": {},
   "outputs": [
    {
     "data": {
      "text/plain": [
       "0.781688822317918"
      ]
     },
     "execution_count": 158,
     "metadata": {},
     "output_type": "execute_result"
    }
   ],
   "source": [
    "# with class_weight for class imbalance \n",
    "\n",
    "std_scale = StandardScaler()\n",
    "X_train_scaled = std_scale.fit_transform(X_train)\n",
    "\n",
    "logit = LogisticRegression(C = 0.1, penalty= 'l2', solver = 'lbfgs', class_weight='balanced')\n",
    "logit.fit(X_train_scaled, y_train)\n",
    "\n",
    "y_predict = logit.predict(X_train_scaled) \n",
    "logit.score(X_train_scaled, y_train)"
   ]
  },
  {
   "cell_type": "code",
   "execution_count": 159,
   "id": "c7d26167-2e4b-44c4-83e1-4df2948e9c5d",
   "metadata": {},
   "outputs": [
    {
     "data": {
      "text/plain": [
       "0.7738674653687757"
      ]
     },
     "execution_count": 159,
     "metadata": {},
     "output_type": "execute_result"
    }
   ],
   "source": [
    "std_scale = StandardScaler()\n",
    "X_val_scaled = std_scale.fit_transform(X_val)\n",
    "\n",
    "y_predict = logit.predict(X_val_scaled) \n",
    "logit.score(X_val_scaled, y_val)"
   ]
  },
  {
   "cell_type": "code",
   "execution_count": 160,
   "id": "80adc3ad-d6fc-4a83-9d3a-e9ecf8488241",
   "metadata": {},
   "outputs": [
    {
     "name": "stdout",
     "output_type": "stream",
     "text": [
      "Accuracy: 0.7738674653687757\n",
      "Precision: 0.45668827342368884\n",
      "Recall: 0.7304429783223374\n",
      "f1: 0.5620014503263234\n"
     ]
    }
   ],
   "source": [
    "y_pred = logit.predict(X_val_scaled) \n",
    "\n",
    "print(\"Accuracy:\",metrics.accuracy_score(y_val, y_pred))\n",
    "print(\"Precision:\",metrics.precision_score(y_val, y_pred))\n",
    "print(\"Recall:\",metrics.recall_score(y_val, y_pred))\n",
    "print(\"f1:\",metrics.f1_score(y_val, y_pred))"
   ]
  },
  {
   "cell_type": "markdown",
   "id": "aaf75ddb-9a42-49dc-a019-4b01ad899bd6",
   "metadata": {},
   "source": [
    "### Feature importance & Feature selection"
   ]
  },
  {
   "cell_type": "markdown",
   "id": "eb63b7c0-bb89-4142-9fd7-2c4aa19599be",
   "metadata": {},
   "source": [
    "#### Feature importance"
   ]
  },
  {
   "cell_type": "code",
   "execution_count": 31,
   "id": "a945037a-ab6c-4812-b35c-ed32a6a160b5",
   "metadata": {
    "tags": []
   },
   "outputs": [
    {
     "name": "stdout",
     "output_type": "stream",
     "text": [
      "Feature: 0, Score: -0.07531\n",
      "Feature: 1, Score: 0.04564\n",
      "Feature: 2, Score: 0.05487\n",
      "Feature: 3, Score: -0.04940\n",
      "Feature: 4, Score: 0.01194\n",
      "Feature: 5, Score: 0.00215\n",
      "Feature: 6, Score: -0.03563\n",
      "Feature: 7, Score: -0.07814\n",
      "Feature: 8, Score: 0.07052\n",
      "Feature: 9, Score: 0.93515\n",
      "Feature: 10, Score: -0.27781\n",
      "Feature: 11, Score: 0.00086\n",
      "Feature: 12, Score: 0.04865\n",
      "Feature: 13, Score: 0.17181\n",
      "Feature: 14, Score: -0.02093\n",
      "Feature: 15, Score: 0.55611\n",
      "Feature: 16, Score: 0.37108\n",
      "Feature: 17, Score: 0.00405\n",
      "Feature: 18, Score: 0.07284\n",
      "Feature: 19, Score: 0.25883\n",
      "Feature: 20, Score: -0.10925\n",
      "Feature: 21, Score: 0.25689\n",
      "Feature: 22, Score: -0.02359\n",
      "Feature: 23, Score: -0.00775\n",
      "Feature: 24, Score: 0.05503\n",
      "Feature: 25, Score: 0.07463\n",
      "Feature: 26, Score: 0.22439\n",
      "Feature: 27, Score: 0.21214\n",
      "Feature: 28, Score: 0.07053\n",
      "Feature: 29, Score: -0.00135\n",
      "Feature: 30, Score: 0.00443\n",
      "Feature: 31, Score: -0.05932\n",
      "Feature: 32, Score: -0.09227\n",
      "Feature: 33, Score: -0.03449\n",
      "Feature: 34, Score: 0.03619\n",
      "Feature: 35, Score: -0.01800\n",
      "Feature: 36, Score: 0.03247\n",
      "Feature: 37, Score: -0.05944\n",
      "Feature: 38, Score: 0.01818\n",
      "Feature: 39, Score: -0.02980\n",
      "Feature: 40, Score: 0.04102\n",
      "Feature: 41, Score: -0.03368\n",
      "Feature: 42, Score: -0.00128\n",
      "Feature: 43, Score: 0.02329\n",
      "Feature: 44, Score: 0.08946\n",
      "Feature: 45, Score: -0.17856\n",
      "Feature: 46, Score: -0.10787\n",
      "Feature: 47, Score: -0.05409\n",
      "Feature: 48, Score: -0.45460\n",
      "Feature: 49, Score: 0.06826\n",
      "Feature: 50, Score: -0.21175\n",
      "Feature: 51, Score: -0.10409\n",
      "Feature: 52, Score: -0.13098\n",
      "Feature: 53, Score: -0.15616\n",
      "Feature: 54, Score: -0.05944\n",
      "Feature: 55, Score: -0.01757\n",
      "Feature: 56, Score: -0.16518\n",
      "Feature: 57, Score: -0.11774\n",
      "Feature: 58, Score: -0.20895\n",
      "Feature: 59, Score: -0.03795\n",
      "Feature: 60, Score: -0.15169\n",
      "Feature: 61, Score: -0.07278\n",
      "Feature: 62, Score: -0.08367\n",
      "Feature: 63, Score: -0.10509\n",
      "Feature: 64, Score: -0.12376\n",
      "Feature: 65, Score: -0.08727\n",
      "Feature: 66, Score: 0.08596\n",
      "Feature: 67, Score: 0.06826\n",
      "Feature: 68, Score: -0.05460\n",
      "Feature: 69, Score: -0.09248\n",
      "Feature: 70, Score: -0.01741\n",
      "Feature: 71, Score: -0.07836\n",
      "Feature: 72, Score: -0.03037\n",
      "Feature: 73, Score: 0.04137\n",
      "Feature: 74, Score: -0.04802\n",
      "Feature: 75, Score: -0.03362\n",
      "Feature: 76, Score: -0.03773\n",
      "Feature: 77, Score: -0.08280\n",
      "Feature: 78, Score: -0.05863\n",
      "Feature: 79, Score: 0.05411\n",
      "Feature: 80, Score: 0.02928\n",
      "Feature: 81, Score: -0.01579\n",
      "Feature: 82, Score: -0.02948\n",
      "Feature: 83, Score: -0.14571\n",
      "Feature: 84, Score: 0.05570\n",
      "Feature: 85, Score: 0.07446\n",
      "Feature: 86, Score: -0.04656\n"
     ]
    },
    {
     "data": {
      "image/png": "[encoded data removed]",
      "text/plain": [
       "<Figure size 432x288 with 1 Axes>"
      ]
     },
     "metadata": {
      "needs_background": "light"
     },
     "output_type": "display_data"
    }
   ],
   "source": [
    "importance = logit.coef_[0]\n",
    "\n",
    "# summarize feature importance\n",
    "for i,v in enumerate(importance):\n",
    "\tprint('Feature: %0d, Score: %.5f' % (i,v))\n",
    "    \n",
    "# plot feature importance\n",
    "plt.bar([x for x in range(len(importance))], importance)\n",
    "plt.show()"
   ]
  },
  {
   "cell_type": "code",
   "execution_count": 169,
   "id": "901c7c4e-0405-4624-bdd8-01be2283a187",
   "metadata": {},
   "outputs": [],
   "source": [
    "df_3 = df.copy()"
   ]
  },
  {
   "cell_type": "code",
   "execution_count": 170,
   "id": "a13cd97b-e51b-41e1-aa4b-28fa26f12559",
   "metadata": {},
   "outputs": [
    {
     "name": "stderr",
     "output_type": "stream",
     "text": [
      "<ipython-input-170-c6ef3f37a08e>:10: SettingWithCopyWarning: \n",
      "A value is trying to be set on a copy of a slice from a DataFrame.\n",
      "Try using .loc[row_indexer,col_indexer] = value instead\n",
      "\n",
      "See the caveats in the documentation: https://pandas.pydata.org/pandas-docs/stable/user_guide/indexing.html#returning-a-view-versus-a-copy\n",
      "  X[['opinion_h1n1_vacc_effective','opinion_h1n1_risk','opinion_seas_risk','age_group']]= \\\n",
      "/Users/hyewonjeong/opt/anaconda3/lib/python3.8/site-packages/pandas/core/indexing.py:1738: SettingWithCopyWarning: \n",
      "A value is trying to be set on a copy of a slice from a DataFrame.\n",
      "Try using .loc[row_indexer,col_indexer] = value instead\n",
      "\n",
      "See the caveats in the documentation: https://pandas.pydata.org/pandas-docs/stable/user_guide/indexing.html#returning-a-view-versus-a-copy\n",
      "  self._setitem_single_column(loc, value[:, i].tolist(), pi)\n"
     ]
    }
   ],
   "source": [
    "y = df_3.h1n1_vaccine\n",
    "X = df_3[['doctor_recc_h1n1','employment_industry','employment_occupation',\n",
    "         'opinion_h1n1_vacc_effective','opinion_h1n1_risk','opinion_seas_risk','age_group']]\n",
    "\n",
    "\n",
    "ordinal = OrdinalEncoder()\n",
    "\n",
    "ordinal.fit(X[['opinion_h1n1_vacc_effective','opinion_h1n1_risk','opinion_seas_risk','age_group']])\n",
    "\n",
    "X[['opinion_h1n1_vacc_effective','opinion_h1n1_risk','opinion_seas_risk','age_group']]= \\\n",
    "ordinal.transform(X[['opinion_h1n1_vacc_effective','opinion_h1n1_risk','opinion_seas_risk','age_group']])\n",
    "\n",
    "X = pd.get_dummies(X, columns =['doctor_recc_h1n1','employment_industry','employment_occupation'], drop_first = True)"
   ]
  },
  {
   "cell_type": "code",
   "execution_count": 171,
   "id": "099dc7fa-b9da-429a-ab76-4ac938be586a",
   "metadata": {},
   "outputs": [
    {
     "data": {
      "text/plain": [
       "0.8289334082256756"
      ]
     },
     "execution_count": 171,
     "metadata": {},
     "output_type": "execute_result"
    }
   ],
   "source": [
    "X_train, X_test, y_train, y_test = train_test_split(X, y, test_size = .2, random_state = 42, stratify = y )\n",
    "X_train, X_val, y_train, y_val = train_test_split(X_train, y_train, test_size = .25, random_state = 42)\n",
    "\n",
    "std_scale = StandardScaler()\n",
    "X_train_scaled = std_scale.fit_transform(X_train)\n",
    "\n",
    "logit_selected = LogisticRegression(C=1000) # setting C very high essentially removes regularization\n",
    "logit_selected.fit(X_train_scaled, y_train)\n",
    "\n",
    "y_predict = logit_selected.predict(X_train_scaled) \n",
    "logit_selected.score(X_train_scaled, y_train)"
   ]
  },
  {
   "cell_type": "code",
   "execution_count": 172,
   "id": "efec8743-7488-4457-9f73-b291ced34bb8",
   "metadata": {},
   "outputs": [
    {
     "data": {
      "text/plain": [
       "0.8423811306626732"
      ]
     },
     "execution_count": 172,
     "metadata": {},
     "output_type": "execute_result"
    }
   ],
   "source": [
    "std_scale = StandardScaler()\n",
    "X_val_scaled = std_scale.fit_transform(X_val)\n",
    "\n",
    "logit_selected = LogisticRegression(C=1000) # setting C very high essentially removes regularization\n",
    "logit_selected.fit(X_val_scaled, y_val)\n",
    "\n",
    "y_predict = logit_selected.predict(X_train_scaled) \n",
    "logit_selected.score(X_val_scaled, y_val)"
   ]
  },
  {
   "cell_type": "code",
   "execution_count": 36,
   "id": "4a2b664f-a3e8-4895-9ad0-ae6f5efb5c50",
   "metadata": {},
   "outputs": [
    {
     "name": "stdout",
     "output_type": "stream",
     "text": [
      "Accuracy: 0.8423811306626732\n",
      "Precision: 0.6718995290423861\n",
      "Recall: 0.40339302544769085\n",
      "f1: 0.5041224970553592\n"
     ]
    }
   ],
   "source": [
    "y_pred = logit_selected.predict(X_val_scaled) \n",
    "print(\"Accuracy:\",metrics.accuracy_score(y_val, y_pred))\n",
    "print(\"Precision:\",metrics.precision_score(y_val, y_pred))\n",
    "print(\"Recall:\",metrics.recall_score(y_val, y_pred))\n",
    "print(\"f1:\",metrics.f1_score(y_val, y_pred))"
   ]
  },
  {
   "cell_type": "code",
   "execution_count": 37,
   "id": "491802da-74fa-4394-98e9-46314bab4176",
   "metadata": {},
   "outputs": [
    {
     "name": "stdout",
     "output_type": "stream",
     "text": [
      "Logistic Regression on SMOTE Train Data; Test Recall: 0.696, Test AUC: 0.835\n"
     ]
    }
   ],
   "source": [
    "# setup for the ratio argument of RandomOverSampler initialization\n",
    "n_pos = np.sum(y_train == 1)\n",
    "n_neg = np.sum(y_train == 0)\n",
    "ratio = {1 : n_pos * 3, 0 : n_neg} \n",
    "\n",
    "smote = imblearn.over_sampling.SMOTE(sampling_strategy=ratio, random_state = 42)\n",
    "\n",
    "X_tr_smote, y_tr_smote = smote.fit_resample(X_train_scaled, y_train)\n",
    "\n",
    "lr_smote = LogisticRegression(solver='liblinear') \n",
    "lr_smote.fit(X_tr_smote, y_tr_smote)\n",
    "\n",
    "print('Logistic Regression on SMOTE Train Data; Test Recall: %.3f, Test AUC: %.3f' % \\\n",
    "      (recall_score(y_val, lr_smote.predict(X_val_scaled)), roc_auc_score(y_val, lr_smote.predict_proba(X_val_scaled)[:,1])))"
   ]
  },
  {
   "cell_type": "markdown",
   "id": "fded34f6-fd32-4ca3-8fa5-13dfd766a267",
   "metadata": {},
   "source": [
    "# Naive Bayes "
   ]
  },
  {
   "cell_type": "code",
   "execution_count": 131,
   "id": "c52ea263-3625-481b-9b77-f293196a1418",
   "metadata": {},
   "outputs": [],
   "source": [
    "y = df_2.h1n1_vaccine\n",
    "X = df_2.drop(labels = ['h1n1_vaccine','respondent_id','seasonal_vaccine'], axis = 1)\n",
    "\n",
    "X_train, X_test, y_train, y_test = train_test_split(X, y, test_size = .2, random_state = 42, stratify= y)\n",
    "X_train, X_val, y_train, y_val = train_test_split(X_train, y_train, test_size = .25, random_state = 42)"
   ]
  },
  {
   "cell_type": "code",
   "execution_count": 132,
   "id": "f69e38c8-ab2e-4774-af63-31491da9489e",
   "metadata": {},
   "outputs": [
    {
     "data": {
      "text/plain": [
       "0.7907383136740935"
      ]
     },
     "execution_count": 132,
     "metadata": {},
     "output_type": "execute_result"
    }
   ],
   "source": [
    "std_scale = StandardScaler()\n",
    "X_train_scaled = std_scale.fit_transform(X_train)\n",
    "\n",
    "nb = BernoulliNB()\n",
    "nb.fit(X_train_scaled, y_train)\n",
    "nb.score(X_train_scaled, y_train)"
   ]
  },
  {
   "cell_type": "code",
   "execution_count": 133,
   "id": "c7cae829-ff9f-4afd-bfc6-42b78737a895",
   "metadata": {},
   "outputs": [
    {
     "data": {
      "text/plain": [
       "0.8010108573567952"
      ]
     },
     "execution_count": 133,
     "metadata": {},
     "output_type": "execute_result"
    }
   ],
   "source": [
    "std_scale = StandardScaler()\n",
    "X_val_scaled = std_scale.fit_transform(X_val)\n",
    "\n",
    "nb = BernoulliNB()\n",
    "nb.fit(X_val_scaled, y_val)\n",
    "nb.score(X_val_scaled, y_val)"
   ]
  },
  {
   "cell_type": "code",
   "execution_count": 134,
   "id": "70070ff4-48ef-47d6-ac9f-2fdd62e2355f",
   "metadata": {},
   "outputs": [
    {
     "name": "stdout",
     "output_type": "stream",
     "text": [
      "Accuracy: 0.8010108573567952\n",
      "Precision: 0.49917898193760263\n",
      "Recall: 0.5730442978322338\n",
      "f1: 0.5335673541026766\n"
     ]
    }
   ],
   "source": [
    "y_pred =nb.predict(X_val_scaled) \n",
    "print(\"Accuracy:\",metrics.accuracy_score(y_val, y_pred))\n",
    "print(\"Precision:\",metrics.precision_score(y_val, y_pred))\n",
    "print(\"Recall:\",metrics.recall_score(y_val, y_pred))\n",
    "print(\"f1:\",metrics.f1_score(y_val, y_pred))"
   ]
  },
  {
   "cell_type": "code",
   "execution_count": 135,
   "id": "36f289b7-9daf-4b6c-82e1-930f323a09a5",
   "metadata": {},
   "outputs": [
    {
     "name": "stdout",
     "output_type": "stream",
     "text": [
      "Logistic Regression on SMOTE Train Data; Test Recall: 0.687, Test AUC: 0.807\n"
     ]
    }
   ],
   "source": [
    "# setup for the ratio argument of RandomOverSampler initialization\n",
    "n_pos = np.sum(y_train == 1)\n",
    "n_neg = np.sum(y_train == 0)\n",
    "ratio = {1 : n_pos * 3, 0 : n_neg} \n",
    "\n",
    "smote = imblearn.over_sampling.SMOTE(sampling_strategy=ratio, random_state = 42)\n",
    "\n",
    "X_tr_smote, y_tr_smote = smote.fit_resample(X_train_scaled, y_train)\n",
    "\n",
    "nb_smote = BernoulliNB() \n",
    "nb_smote.fit(X_tr_smote, y_tr_smote)\n",
    "\n",
    "print('Logistic Regression on SMOTE Train Data; Test Recall: %.3f, Test AUC: %.3f' % \\\n",
    "      (recall_score(y_val, nb_smote.predict(X_val_scaled)), roc_auc_score(y_val, nb_smote.predict_proba(X_val_scaled)[:,1])))"
   ]
  },
  {
   "cell_type": "markdown",
   "id": "91963d83-dd7c-4bd0-b531-82d95fed7092",
   "metadata": {},
   "source": [
    "### Random Forest "
   ]
  },
  {
   "cell_type": "code",
   "execution_count": 146,
   "id": "49f8b8a0-dd84-484c-b9f1-8219efae3f59",
   "metadata": {},
   "outputs": [],
   "source": [
    "y = df_2.h1n1_vaccine\n",
    "X = df_2.drop(labels = ['h1n1_vaccine','respondent_id','seasonal_vaccine'], axis = 1)\n",
    "\n",
    "X_train, X_test, y_train, y_test = train_test_split(X, y, test_size = .2, random_state = 42, stratify= y)\n",
    "X_train, X_val, y_train, y_val = train_test_split(X_train, y_train, test_size = .25, random_state = 42)"
   ]
  },
  {
   "cell_type": "code",
   "execution_count": 72,
   "id": "65b30d78-ea3e-43ab-b4fe-20819befff5c",
   "metadata": {},
   "outputs": [],
   "source": [
    "# Number of trees in random forest\n",
    "n_estimators = [int(x) for x in np.linspace(start = 10, stop = 80, num = 10)]\n",
    "# Number of features to consider at every split\n",
    "max_features = ['auto', 'sqrt']\n",
    "# Maximum number of levels in tree\n",
    "max_depth = [2,4]\n",
    "# Minimum number of samples required to split a node\n",
    "min_samples_split = [2, 5]\n",
    "# Minimum number of samples required at each leaf node\n",
    "min_samples_leaf = [1, 2]\n",
    "# Method of selecting samples for training each tree\n",
    "bootstrap = [True, False]"
   ]
  },
  {
   "cell_type": "code",
   "execution_count": 73,
   "id": "129e9c43-f894-4870-96da-5b756ca68b64",
   "metadata": {},
   "outputs": [
    {
     "name": "stdout",
     "output_type": "stream",
     "text": [
      "{'n_estimators': [10, 17, 25, 33, 41, 48, 56, 64, 72, 80], 'max_features': ['auto', 'sqrt'], 'max_depth': [2, 4], 'min_samples_split': [2, 5], 'min_samples_leaf': [1, 2], 'bootstrap': [True, False]}\n"
     ]
    }
   ],
   "source": [
    "# Create the param grid\n",
    "param_grid = {'n_estimators': n_estimators,\n",
    "               'max_features': max_features,\n",
    "               'max_depth': max_depth,\n",
    "               'min_samples_split': min_samples_split,\n",
    "               'min_samples_leaf': min_samples_leaf,\n",
    "               'bootstrap': bootstrap}\n",
    "\n",
    "print(param_grid)"
   ]
  },
  {
   "cell_type": "code",
   "execution_count": 74,
   "id": "c9f277f1-269d-485f-844c-e1a096679984",
   "metadata": {},
   "outputs": [],
   "source": [
    "rf = RandomForestClassifier()"
   ]
  },
  {
   "cell_type": "code",
   "execution_count": 75,
   "id": "0d5c8d2f-7c9b-431a-a1a2-f177a87ca845",
   "metadata": {},
   "outputs": [],
   "source": [
    "rf_Grid = GridSearchCV(estimator = rf, param_grid = param_grid, cv = 5, verbose=2, n_jobs = 4)"
   ]
  },
  {
   "cell_type": "code",
   "execution_count": 76,
   "id": "767150c2-a73a-4827-8a32-b3bcc672e0ac",
   "metadata": {},
   "outputs": [
    {
     "name": "stdout",
     "output_type": "stream",
     "text": [
      "Fitting 5 folds for each of 320 candidates, totalling 1600 fits\n"
     ]
    },
    {
     "data": {
      "text/plain": [
       "GridSearchCV(cv=5, estimator=RandomForestClassifier(), n_jobs=4,\n",
       "             param_grid={'bootstrap': [True, False], 'max_depth': [2, 4],\n",
       "                         'max_features': ['auto', 'sqrt'],\n",
       "                         'min_samples_leaf': [1, 2],\n",
       "                         'min_samples_split': [2, 5],\n",
       "                         'n_estimators': [10, 17, 25, 33, 41, 48, 56, 64, 72,\n",
       "                                          80]},\n",
       "             verbose=2)"
      ]
     },
     "execution_count": 76,
     "metadata": {},
     "output_type": "execute_result"
    }
   ],
   "source": [
    "rf_Grid.fit(X_train, y_train)"
   ]
  },
  {
   "cell_type": "code",
   "execution_count": 77,
   "id": "6f90d6b2-f2ba-4ba1-a4b0-8ed0f03d94fb",
   "metadata": {},
   "outputs": [
    {
     "data": {
      "text/plain": [
       "{'bootstrap': True,\n",
       " 'max_depth': 4,\n",
       " 'max_features': 'sqrt',\n",
       " 'min_samples_leaf': 2,\n",
       " 'min_samples_split': 2,\n",
       " 'n_estimators': 10}"
      ]
     },
     "execution_count": 77,
     "metadata": {},
     "output_type": "execute_result"
    }
   ],
   "source": [
    "rf_Grid.best_params_"
   ]
  },
  {
   "cell_type": "code",
   "execution_count": 78,
   "id": "bf4967fb-862b-4d46-a6b5-3f72e41a472a",
   "metadata": {},
   "outputs": [],
   "source": [
    "rf = RandomForestClassifier(bootstrap=True, max_depth = 4, max_features= 'sqrt',min_samples_leaf = 2, \n",
    "                            min_samples_split = 2, n_estimators= 10)"
   ]
  },
  {
   "cell_type": "code",
   "execution_count": 80,
   "id": "ed08d348-10ef-4ce5-9407-fcf7943e0a8e",
   "metadata": {},
   "outputs": [
    {
     "data": {
      "text/plain": [
       "0.7912375959558136"
      ]
     },
     "execution_count": 80,
     "metadata": {},
     "output_type": "execute_result"
    }
   ],
   "source": [
    "rf.fit(X_train, y_train)\n",
    "rf.score(X_train, y_train)"
   ]
  },
  {
   "cell_type": "code",
   "execution_count": 81,
   "id": "1c028ebe-205e-4f03-973e-65a11ab1f842",
   "metadata": {},
   "outputs": [
    {
     "data": {
      "text/plain": [
       "0.8113066267315612"
      ]
     },
     "execution_count": 81,
     "metadata": {},
     "output_type": "execute_result"
    }
   ],
   "source": [
    "rf.score(X_val, y_val)"
   ]
  },
  {
   "cell_type": "code",
   "execution_count": 82,
   "id": "93749501-05e3-4af9-b16e-95627a5d3104",
   "metadata": {},
   "outputs": [
    {
     "name": "stdout",
     "output_type": "stream",
     "text": [
      "Accuracy: 0.8113066267315612\n",
      "Precision: 0.8732394366197183\n",
      "Recall: 0.058435438265786996\n",
      "f1: 0.10954063604240283\n"
     ]
    }
   ],
   "source": [
    "y_pred=rf.predict(X_val)\n",
    "print(\"Accuracy:\",metrics.accuracy_score(y_val, y_pred))\n",
    "print(\"Precision:\",metrics.precision_score(y_val, y_pred))\n",
    "print(\"Recall:\",metrics.recall_score(y_val, y_pred))\n",
    "print(\"f1:\",metrics.f1_score(y_val, y_pred))"
   ]
  },
  {
   "cell_type": "code",
   "execution_count": 147,
   "id": "0524dfab-0185-48fc-b70c-e3e7f0c7cb59",
   "metadata": {},
   "outputs": [],
   "source": [
    "#with class weight\n",
    "\n",
    "rf = RandomForestClassifier(bootstrap=True, max_depth = 4, max_features= 'sqrt',min_samples_leaf = 2, \n",
    "                            min_samples_split = 2, n_estimators= 10, class_weight='balanced')"
   ]
  },
  {
   "cell_type": "code",
   "execution_count": 148,
   "id": "e72cfc8c-3768-4173-ac53-3df2ed73660b",
   "metadata": {},
   "outputs": [
    {
     "data": {
      "text/plain": [
       "0.7397491106534357"
      ]
     },
     "execution_count": 148,
     "metadata": {},
     "output_type": "execute_result"
    }
   ],
   "source": [
    "rf.fit(X_train, y_train)\n",
    "rf.score(X_train, y_train)"
   ]
  },
  {
   "cell_type": "code",
   "execution_count": 149,
   "id": "9c8059e0-dcc9-4a4f-a511-d5c81acf0f13",
   "metadata": {},
   "outputs": [
    {
     "data": {
      "text/plain": [
       "0.7450393111194309"
      ]
     },
     "execution_count": 149,
     "metadata": {},
     "output_type": "execute_result"
    }
   ],
   "source": [
    "rf.score(X_val, y_val)"
   ]
  },
  {
   "cell_type": "code",
   "execution_count": 150,
   "id": "47542e57-7da3-4c2c-adb8-792226828402",
   "metadata": {},
   "outputs": [
    {
     "name": "stdout",
     "output_type": "stream",
     "text": [
      "Accuracy: 0.7450393111194309\n",
      "Precision: 0.41973333333333335\n",
      "Recall: 0.7417530631479736\n",
      "f1: 0.5361035422343324\n"
     ]
    }
   ],
   "source": [
    "y_pred=rf.predict(X_val)\n",
    "print(\"Accuracy:\",metrics.accuracy_score(y_val, y_pred))\n",
    "print(\"Precision:\",metrics.precision_score(y_val, y_pred))\n",
    "print(\"Recall:\",metrics.recall_score(y_val, y_pred))\n",
    "print(\"f1:\",metrics.f1_score(y_val, y_pred))"
   ]
  },
  {
   "cell_type": "markdown",
   "id": "928aee6c-235b-4887-95de-5ef26dd46f7b",
   "metadata": {},
   "source": [
    "### XGBoost"
   ]
  },
  {
   "cell_type": "code",
   "execution_count": 87,
   "id": "1b445950-008e-4fda-ad11-6ff60f68d756",
   "metadata": {},
   "outputs": [],
   "source": [
    "y = df_2.h1n1_vaccine\n",
    "X = df_2.drop(labels = ['h1n1_vaccine','respondent_id','seasonal_vaccine'], axis = 1)\n",
    "\n",
    "X_train, X_test, y_train, y_test = train_test_split(X, y, test_size = .2, random_state = 42, stratify= y)\n",
    "X_train, X_val, y_train, y_val = train_test_split(X_train, y_train, test_size = .25, random_state = 42)"
   ]
  },
  {
   "cell_type": "code",
   "execution_count": 88,
   "id": "a96115d1-d4ef-4a65-a726-38c6aff65088",
   "metadata": {},
   "outputs": [],
   "source": [
    "estimator = XGBClassifier(\n",
    "    objective= 'binary:logistic',\n",
    "    nthread=4,\n",
    "    seed=42\n",
    ")"
   ]
  },
  {
   "cell_type": "code",
   "execution_count": 54,
   "id": "0771d5e7-4e06-4862-95d9-28905a041c28",
   "metadata": {},
   "outputs": [],
   "source": [
    "parameters = {\n",
    "    'max_depth': range (2, 10, 1),\n",
    "    'n_estimators': range(60, 220, 40),\n",
    "    'learning_rate': [0.1, 0.01, 0.05]\n",
    "}"
   ]
  },
  {
   "cell_type": "code",
   "execution_count": 55,
   "id": "fe55aab8-908a-44d5-ad72-b9b1dd67c30b",
   "metadata": {},
   "outputs": [],
   "source": [
    "grid_search = GridSearchCV(\n",
    "    estimator=estimator,\n",
    "    param_grid=parameters,\n",
    "    scoring = 'roc_auc',\n",
    "    n_jobs = 10,\n",
    "    cv = 10,\n",
    "    verbose=True\n",
    ")"
   ]
  },
  {
   "cell_type": "code",
   "execution_count": 56,
   "id": "df134bb7-3117-42ed-86b3-249891368c06",
   "metadata": {},
   "outputs": [],
   "source": [
    "grid_search = GridSearchCV(\n",
    "    estimator=estimator,\n",
    "    param_grid=parameters,\n",
    "    scoring = 'roc_auc',\n",
    "    n_jobs = 10,\n",
    "    cv = 5,\n",
    "    verbose=True\n",
    ")"
   ]
  },
  {
   "cell_type": "code",
   "execution_count": 57,
   "id": "6b611d24-1641-43ec-935f-a9325c87b536",
   "metadata": {},
   "outputs": [
    {
     "name": "stdout",
     "output_type": "stream",
     "text": [
      "Fitting 5 folds for each of 96 candidates, totalling 480 fits\n"
     ]
    },
    {
     "name": "stderr",
     "output_type": "stream",
     "text": [
      "/Users/hyewonjeong/opt/anaconda3/lib/python3.8/site-packages/xgboost/sklearn.py:888: UserWarning: The use of label encoder in XGBClassifier is deprecated and will be removed in a future release. To remove this warning, do the following: 1) Pass option use_label_encoder=False when constructing XGBClassifier object; and 2) Encode your labels (y) as integers starting with 0, i.e. 0, 1, 2, ..., [num_class - 1].\n",
      "  warnings.warn(label_encoder_deprecation_msg, UserWarning)\n"
     ]
    },
    {
     "name": "stdout",
     "output_type": "stream",
     "text": [
      "[12:20:10] WARNING: /opt/concourse/worker/volumes/live/7a2b9f41-3287-451b-6691-43e9a6c0910f/volume/xgboost-split_1619728204606/work/src/learner.cc:1061: Starting in XGBoost 1.3.0, the default evaluation metric used with the objective 'binary:logistic' was changed from 'error' to 'logloss'. Explicitly set eval_metric if you'd like to restore the old behavior.\n"
     ]
    },
    {
     "data": {
      "text/plain": [
       "GridSearchCV(cv=5,\n",
       "             estimator=XGBClassifier(base_score=None, booster=None,\n",
       "                                     colsample_bylevel=None,\n",
       "                                     colsample_bynode=None,\n",
       "                                     colsample_bytree=None, gamma=None,\n",
       "                                     gpu_id=None, importance_type='gain',\n",
       "                                     interaction_constraints=None,\n",
       "                                     learning_rate=None, max_delta_step=None,\n",
       "                                     max_depth=None, min_child_weight=None,\n",
       "                                     missing=nan, monotone_constraints=None,\n",
       "                                     n_estimators=100, n_jobs=None, nthread=4,\n",
       "                                     num_parallel_tree=None, random_state=None,\n",
       "                                     reg_alpha=None, reg_lambda=None,\n",
       "                                     scale_pos_weight=None, seed=42,\n",
       "                                     subsample=None, tree_method=None,\n",
       "                                     validate_parameters=None, verbosity=None),\n",
       "             n_jobs=10,\n",
       "             param_grid={'learning_rate': [0.1, 0.01, 0.05],\n",
       "                         'max_depth': range(2, 10),\n",
       "                         'n_estimators': range(60, 220, 40)},\n",
       "             scoring='roc_auc', verbose=True)"
      ]
     },
     "execution_count": 57,
     "metadata": {},
     "output_type": "execute_result"
    }
   ],
   "source": [
    "grid_search.fit(X_train, y_train)"
   ]
  },
  {
   "cell_type": "code",
   "execution_count": 58,
   "id": "55b1c0a7-a821-4a5b-bddb-17d400e15e1b",
   "metadata": {},
   "outputs": [
    {
     "data": {
      "text/plain": [
       "XGBClassifier(base_score=0.5, booster='gbtree', colsample_bylevel=1,\n",
       "              colsample_bynode=1, colsample_bytree=1, gamma=0, gpu_id=-1,\n",
       "              importance_type='gain', interaction_constraints='',\n",
       "              learning_rate=0.05, max_delta_step=0, max_depth=4,\n",
       "              min_child_weight=1, missing=nan, monotone_constraints='()',\n",
       "              n_estimators=140, n_jobs=4, nthread=4, num_parallel_tree=1,\n",
       "              random_state=42, reg_alpha=0, reg_lambda=1, scale_pos_weight=1,\n",
       "              seed=42, subsample=1, tree_method='exact', validate_parameters=1,\n",
       "              verbosity=None)"
      ]
     },
     "execution_count": 58,
     "metadata": {},
     "output_type": "execute_result"
    }
   ],
   "source": [
    "grid_search.best_estimator_"
   ]
  },
  {
   "cell_type": "code",
   "execution_count": 163,
   "id": "1d2c9c10-8eff-4c36-a380-d8e2511fc5a5",
   "metadata": {},
   "outputs": [],
   "source": [
    "xgb = XGBClassifier(base_score=0.5, booster='gbtree', colsample_bylevel=1,\n",
    "              colsample_bynode=1, colsample_bytree=1, gamma=0, gpu_id=-1,\n",
    "              importance_type='gain', interaction_constraints='',\n",
    "              learning_rate=0.05, max_delta_step=0, max_depth=4,\n",
    "              min_child_weight=1, monotone_constraints='()',\n",
    "              n_estimators=140, n_jobs=4, nthread=4, num_parallel_tree=1,\n",
    "              random_state=42, reg_alpha=0, reg_lambda=1, scale_pos_weight=1,\n",
    "              seed=42, subsample=1, tree_method='exact', validate_parameters=1,\n",
    "              verbosity=None)"
   ]
  },
  {
   "cell_type": "code",
   "execution_count": 164,
   "id": "56013018-6345-459a-a9d4-d72ab296a4bd",
   "metadata": {},
   "outputs": [
    {
     "name": "stderr",
     "output_type": "stream",
     "text": [
      "/Users/hyewonjeong/opt/anaconda3/lib/python3.8/site-packages/xgboost/sklearn.py:888: UserWarning: The use of label encoder in XGBClassifier is deprecated and will be removed in a future release. To remove this warning, do the following: 1) Pass option use_label_encoder=False when constructing XGBClassifier object; and 2) Encode your labels (y) as integers starting with 0, i.e. 0, 1, 2, ..., [num_class - 1].\n",
      "  warnings.warn(label_encoder_deprecation_msg, UserWarning)\n"
     ]
    },
    {
     "name": "stdout",
     "output_type": "stream",
     "text": [
      "[21:03:39] WARNING: /opt/concourse/worker/volumes/live/7a2b9f41-3287-451b-6691-43e9a6c0910f/volume/xgboost-split_1619728204606/work/src/learner.cc:1061: Starting in XGBoost 1.3.0, the default evaluation metric used with the objective 'binary:logistic' was changed from 'error' to 'logloss'. Explicitly set eval_metric if you'd like to restore the old behavior.\n"
     ]
    },
    {
     "data": {
      "text/plain": [
       "0.8497784434874868"
      ]
     },
     "execution_count": 164,
     "metadata": {},
     "output_type": "execute_result"
    }
   ],
   "source": [
    "xgb.fit(X_train, y_train)\n",
    "xgb.score(X_train, y_train)"
   ]
  },
  {
   "cell_type": "code",
   "execution_count": 93,
   "id": "b222110a-c691-45d1-b320-dba609df35b1",
   "metadata": {},
   "outputs": [
    {
     "data": {
      "text/plain": [
       "0.8444402845376263"
      ]
     },
     "execution_count": 93,
     "metadata": {},
     "output_type": "execute_result"
    }
   ],
   "source": [
    "xgb.score(X_val, y_val)"
   ]
  },
  {
   "cell_type": "code",
   "execution_count": 94,
   "id": "6fae9097-bae8-4735-813c-9b48745bce04",
   "metadata": {},
   "outputs": [
    {
     "name": "stdout",
     "output_type": "stream",
     "text": [
      "Accuracy: 0.8444402845376263\n",
      "Precision: 0.6501305483028721\n",
      "Recall: 0.46936852026390197\n",
      "f1: 0.5451559934318555\n"
     ]
    }
   ],
   "source": [
    "y_pred=xgb.predict(X_val)\n",
    "print(\"Accuracy:\",metrics.accuracy_score(y_val, y_pred))\n",
    "print(\"Precision:\",metrics.precision_score(y_val, y_pred))\n",
    "print(\"Recall:\",metrics.recall_score(y_val, y_pred))\n",
    "print(\"f1:\",metrics.f1_score(y_val, y_pred))"
   ]
  },
  {
   "cell_type": "markdown",
   "id": "a19a61b4-51cb-4c79-9454-e018e8b92a5b",
   "metadata": {},
   "source": [
    "## Test scores on Holdout "
   ]
  },
  {
   "cell_type": "code",
   "execution_count": 168,
   "id": "ef77bcd7-674c-444c-bb27-ec911c009146",
   "metadata": {},
   "outputs": [
    {
     "data": {
      "text/plain": [
       "0.7512167727442906"
      ]
     },
     "execution_count": 168,
     "metadata": {},
     "output_type": "execute_result"
    }
   ],
   "source": [
    "rf.fit(X_test, y_test)\n",
    "rf.score(X_test, y_test)"
   ]
  },
  {
   "cell_type": "code",
   "execution_count": 167,
   "id": "4bc6294f-be3c-4e14-8496-e9d4bdc684a3",
   "metadata": {},
   "outputs": [
    {
     "name": "stdout",
     "output_type": "stream",
     "text": [
      "ROC AUC score =  0.7921383387662055\n"
     ]
    },
    {
     "data": {
      "image/png": "[encoded data removed]",
      "text/plain": [
       "<Figure size 432x288 with 1 Axes>"
      ]
     },
     "metadata": {
      "needs_background": "light"
     },
     "output_type": "display_data"
    }
   ],
   "source": [
    "fpr, tpr, thresholds = roc_curve(y_test, rf.predict_proba(X_test_scaled)[:,1])\n",
    "\n",
    "plt.plot(fpr, tpr,lw=2)\n",
    "plt.plot([0,1],[0,1],c='violet',ls='--')\n",
    "plt.xlim([-0.05,1.05])\n",
    "plt.ylim([-0.05,1.05])\n",
    "\n",
    "\n",
    "plt.xlabel('False positive rate')\n",
    "plt.ylabel('True positive rate')\n",
    "plt.title('ROC curve');\n",
    "print(\"ROC AUC score = \", roc_auc_score(y_test, nb.predict_proba(X_test_scaled)[:,1]))"
   ]
  },
  {
   "cell_type": "code",
   "execution_count": 141,
   "id": "06bc2eb7-0158-4e89-8b29-fef5dcb7b22b",
   "metadata": {},
   "outputs": [],
   "source": [
    "from sklearn.metrics import confusion_matrix\n",
    "def make_confusion_matrix(model, threshold=0.5):\n",
    "    # Predict class 1 if probability of being in class 1 is greater than threshold\n",
    "    # (model.predict(X_test) does this automatically with a threshold of 0.5)\n",
    "    y_predict = (model.predict_proba(X_test_scaled)[:, 1] >= threshold)\n",
    "    fraud_confusion = confusion_matrix(y_test, y_predict)\n",
    "    plt.figure(dpi=80)\n",
    "    sns.heatmap(fraud_confusion, cmap=plt.cm.BuGn, annot=True, square=True, fmt='d',\n",
    "           xticklabels=['non-vaccinated', 'vaccinated'],\n",
    "           yticklabels=['non-vaccinated', 'vaccinated']);\n",
    "    plt.xlabel('prediction')\n",
    "    plt.ylabel('actual')"
   ]
  },
  {
   "cell_type": "code",
   "execution_count": 166,
   "id": "447e6d43-e432-4be4-a5bb-42ea4262ade2",
   "metadata": {},
   "outputs": [
    {
     "data": {
      "image/png": "[encoded data removed]",
      "text/plain": [
       "<Figure size 480x320 with 2 Axes>"
      ]
     },
     "metadata": {
      "needs_background": "light"
     },
     "output_type": "display_data"
    }
   ],
   "source": [
    "make_confusion_matrix(rf)"
   ]
  },
  {
   "cell_type": "code",
   "execution_count": 165,
   "id": "40ca0684-13b2-4778-b48d-8750745fb48b",
   "metadata": {},
   "outputs": [
    {
     "name": "stdout",
     "output_type": "stream",
     "text": [
      "Accuracy: 0.7368026956196181\n",
      "Precision: 0.42726784755770264\n",
      "Recall: 0.7013215859030837\n",
      "f1: 0.5310206804536358\n"
     ]
    }
   ],
   "source": [
    "y_pred=rf.predict(X_test)\n",
    "print(\"Accuracy:\",metrics.accuracy_score(y_test, y_pred))\n",
    "print(\"Precision:\",metrics.precision_score(y_test, y_pred))\n",
    "print(\"Recall:\",metrics.recall_score(y_test, y_pred))\n",
    "print(\"f1:\",metrics.f1_score(y_test, y_pred))"
   ]
  },
  {
   "cell_type": "code",
   "execution_count": null,
   "id": "42ed5923-a790-4288-a19b-6ec140e6c571",
   "metadata": {},
   "outputs": [],
   "source": []
  }
 ],
 "metadata": {
  "kernelspec": {
   "display_name": "Python 3 (ipykernel)",
   "language": "python",
   "name": "python3"
  },
  "language_info": {
   "codemirror_mode": {
    "name": "ipython",
    "version": 3
   },
   "file_extension": ".py",
   "mimetype": "text/x-python",
   "name": "python",
   "nbconvert_exporter": "python",
   "pygments_lexer": "ipython3",
   "version": "3.9.7"
  }
 },
 "nbformat": 4,
 "nbformat_minor": 5
}
